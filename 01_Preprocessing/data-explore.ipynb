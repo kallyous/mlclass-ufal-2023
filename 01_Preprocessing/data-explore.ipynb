{
 "cells": [
  {
   "cell_type": "code",
   "execution_count": 1,
   "id": "fef93f18-8929-4abc-aef7-8f2ca4d532c2",
   "metadata": {},
   "outputs": [],
   "source": [
    "import matplotlib as mpl\n",
    "import matplotlib.pyplot as plt\n",
    "import numpy as np\n",
    "import pandas as pd\n",
    "from sklearn.neighbors import KNeighborsClassifier\n",
    "from sklearn import metrics\n",
    "from random import randint"
   ]
  },
  {
   "cell_type": "markdown",
   "id": "4fce234a-6abd-42f9-8367-32d7b4265014",
   "metadata": {
    "tags": []
   },
   "source": [
    "## Exploração dos dados"
   ]
  },
  {
   "cell_type": "code",
   "execution_count": 2,
   "id": "5a97539f-bf6d-47cc-8b5f-bee2cd6d10c8",
   "metadata": {
    "tags": []
   },
   "outputs": [],
   "source": [
    "data = pd.read_csv('diabetes_dataset.csv')"
   ]
  },
  {
   "cell_type": "code",
   "execution_count": 3,
   "id": "b52bb5bf-2ce6-4f3f-8eba-7365d824f87a",
   "metadata": {
    "tags": []
   },
   "outputs": [
    {
     "data": {
      "text/html": [
       "<div>\n",
       "<style scoped>\n",
       "    .dataframe tbody tr th:only-of-type {\n",
       "        vertical-align: middle;\n",
       "    }\n",
       "\n",
       "    .dataframe tbody tr th {\n",
       "        vertical-align: top;\n",
       "    }\n",
       "\n",
       "    .dataframe thead th {\n",
       "        text-align: right;\n",
       "    }\n",
       "</style>\n",
       "<table border=\"1\" class=\"dataframe\">\n",
       "  <thead>\n",
       "    <tr style=\"text-align: right;\">\n",
       "      <th></th>\n",
       "      <th>Pregnancies</th>\n",
       "      <th>Glucose</th>\n",
       "      <th>BloodPressure</th>\n",
       "      <th>SkinThickness</th>\n",
       "      <th>Insulin</th>\n",
       "      <th>BMI</th>\n",
       "      <th>DiabetesPedigreeFunction</th>\n",
       "      <th>Age</th>\n",
       "      <th>Outcome</th>\n",
       "    </tr>\n",
       "  </thead>\n",
       "  <tbody>\n",
       "    <tr>\n",
       "      <th>0</th>\n",
       "      <td>6</td>\n",
       "      <td>148.0</td>\n",
       "      <td>72.0</td>\n",
       "      <td>35.0</td>\n",
       "      <td>NaN</td>\n",
       "      <td>33.6</td>\n",
       "      <td>0.627</td>\n",
       "      <td>50</td>\n",
       "      <td>1</td>\n",
       "    </tr>\n",
       "    <tr>\n",
       "      <th>1</th>\n",
       "      <td>1</td>\n",
       "      <td>85.0</td>\n",
       "      <td>66.0</td>\n",
       "      <td>29.0</td>\n",
       "      <td>NaN</td>\n",
       "      <td>26.6</td>\n",
       "      <td>0.351</td>\n",
       "      <td>31</td>\n",
       "      <td>0</td>\n",
       "    </tr>\n",
       "    <tr>\n",
       "      <th>2</th>\n",
       "      <td>8</td>\n",
       "      <td>183.0</td>\n",
       "      <td>64.0</td>\n",
       "      <td>NaN</td>\n",
       "      <td>NaN</td>\n",
       "      <td>23.3</td>\n",
       "      <td>0.672</td>\n",
       "      <td>32</td>\n",
       "      <td>1</td>\n",
       "    </tr>\n",
       "    <tr>\n",
       "      <th>3</th>\n",
       "      <td>0</td>\n",
       "      <td>137.0</td>\n",
       "      <td>40.0</td>\n",
       "      <td>35.0</td>\n",
       "      <td>168.0</td>\n",
       "      <td>43.1</td>\n",
       "      <td>2.288</td>\n",
       "      <td>33</td>\n",
       "      <td>1</td>\n",
       "    </tr>\n",
       "    <tr>\n",
       "      <th>4</th>\n",
       "      <td>5</td>\n",
       "      <td>116.0</td>\n",
       "      <td>74.0</td>\n",
       "      <td>NaN</td>\n",
       "      <td>NaN</td>\n",
       "      <td>25.6</td>\n",
       "      <td>0.201</td>\n",
       "      <td>30</td>\n",
       "      <td>0</td>\n",
       "    </tr>\n",
       "    <tr>\n",
       "      <th>5</th>\n",
       "      <td>10</td>\n",
       "      <td>115.0</td>\n",
       "      <td>NaN</td>\n",
       "      <td>NaN</td>\n",
       "      <td>NaN</td>\n",
       "      <td>35.3</td>\n",
       "      <td>0.134</td>\n",
       "      <td>29</td>\n",
       "      <td>0</td>\n",
       "    </tr>\n",
       "    <tr>\n",
       "      <th>6</th>\n",
       "      <td>2</td>\n",
       "      <td>197.0</td>\n",
       "      <td>70.0</td>\n",
       "      <td>45.0</td>\n",
       "      <td>543.0</td>\n",
       "      <td>30.5</td>\n",
       "      <td>0.158</td>\n",
       "      <td>53</td>\n",
       "      <td>1</td>\n",
       "    </tr>\n",
       "    <tr>\n",
       "      <th>7</th>\n",
       "      <td>8</td>\n",
       "      <td>125.0</td>\n",
       "      <td>96.0</td>\n",
       "      <td>NaN</td>\n",
       "      <td>NaN</td>\n",
       "      <td>NaN</td>\n",
       "      <td>0.232</td>\n",
       "      <td>54</td>\n",
       "      <td>1</td>\n",
       "    </tr>\n",
       "    <tr>\n",
       "      <th>8</th>\n",
       "      <td>4</td>\n",
       "      <td>110.0</td>\n",
       "      <td>92.0</td>\n",
       "      <td>NaN</td>\n",
       "      <td>NaN</td>\n",
       "      <td>37.6</td>\n",
       "      <td>0.191</td>\n",
       "      <td>30</td>\n",
       "      <td>0</td>\n",
       "    </tr>\n",
       "    <tr>\n",
       "      <th>9</th>\n",
       "      <td>10</td>\n",
       "      <td>168.0</td>\n",
       "      <td>74.0</td>\n",
       "      <td>NaN</td>\n",
       "      <td>NaN</td>\n",
       "      <td>38.0</td>\n",
       "      <td>0.537</td>\n",
       "      <td>34</td>\n",
       "      <td>1</td>\n",
       "    </tr>\n",
       "  </tbody>\n",
       "</table>\n",
       "</div>"
      ],
      "text/plain": [
       "   Pregnancies  Glucose  BloodPressure  SkinThickness  Insulin   BMI  \\\n",
       "0            6    148.0           72.0           35.0      NaN  33.6   \n",
       "1            1     85.0           66.0           29.0      NaN  26.6   \n",
       "2            8    183.0           64.0            NaN      NaN  23.3   \n",
       "3            0    137.0           40.0           35.0    168.0  43.1   \n",
       "4            5    116.0           74.0            NaN      NaN  25.6   \n",
       "5           10    115.0            NaN            NaN      NaN  35.3   \n",
       "6            2    197.0           70.0           45.0    543.0  30.5   \n",
       "7            8    125.0           96.0            NaN      NaN   NaN   \n",
       "8            4    110.0           92.0            NaN      NaN  37.6   \n",
       "9           10    168.0           74.0            NaN      NaN  38.0   \n",
       "\n",
       "   DiabetesPedigreeFunction  Age  Outcome  \n",
       "0                     0.627   50        1  \n",
       "1                     0.351   31        0  \n",
       "2                     0.672   32        1  \n",
       "3                     2.288   33        1  \n",
       "4                     0.201   30        0  \n",
       "5                     0.134   29        0  \n",
       "6                     0.158   53        1  \n",
       "7                     0.232   54        1  \n",
       "8                     0.191   30        0  \n",
       "9                     0.537   34        1  "
      ]
     },
     "execution_count": 3,
     "metadata": {},
     "output_type": "execute_result"
    }
   ],
   "source": [
    "data.head(10)"
   ]
  },
  {
   "cell_type": "code",
   "execution_count": 4,
   "id": "397e1beb-265b-47ce-9900-5f12daa797e9",
   "metadata": {
    "tags": []
   },
   "outputs": [
    {
     "data": {
      "text/html": [
       "<div>\n",
       "<style scoped>\n",
       "    .dataframe tbody tr th:only-of-type {\n",
       "        vertical-align: middle;\n",
       "    }\n",
       "\n",
       "    .dataframe tbody tr th {\n",
       "        vertical-align: top;\n",
       "    }\n",
       "\n",
       "    .dataframe thead th {\n",
       "        text-align: right;\n",
       "    }\n",
       "</style>\n",
       "<table border=\"1\" class=\"dataframe\">\n",
       "  <thead>\n",
       "    <tr style=\"text-align: right;\">\n",
       "      <th></th>\n",
       "      <th>Pregnancies</th>\n",
       "      <th>Glucose</th>\n",
       "      <th>BloodPressure</th>\n",
       "      <th>SkinThickness</th>\n",
       "      <th>Insulin</th>\n",
       "      <th>BMI</th>\n",
       "      <th>DiabetesPedigreeFunction</th>\n",
       "      <th>Age</th>\n",
       "      <th>Outcome</th>\n",
       "    </tr>\n",
       "  </thead>\n",
       "  <tbody>\n",
       "    <tr>\n",
       "      <th>count</th>\n",
       "      <td>572.000000</td>\n",
       "      <td>567.000000</td>\n",
       "      <td>537.000000</td>\n",
       "      <td>345.000000</td>\n",
       "      <td>198.000000</td>\n",
       "      <td>561.000000</td>\n",
       "      <td>572.000000</td>\n",
       "      <td>572.000000</td>\n",
       "      <td>572.000000</td>\n",
       "    </tr>\n",
       "    <tr>\n",
       "      <th>mean</th>\n",
       "      <td>4.106643</td>\n",
       "      <td>121.647266</td>\n",
       "      <td>73.150838</td>\n",
       "      <td>29.356522</td>\n",
       "      <td>156.934343</td>\n",
       "      <td>32.327629</td>\n",
       "      <td>0.459121</td>\n",
       "      <td>34.043706</td>\n",
       "      <td>0.358392</td>\n",
       "    </tr>\n",
       "    <tr>\n",
       "      <th>std</th>\n",
       "      <td>3.446995</td>\n",
       "      <td>30.132084</td>\n",
       "      <td>12.347184</td>\n",
       "      <td>10.433503</td>\n",
       "      <td>119.066934</td>\n",
       "      <td>6.735437</td>\n",
       "      <td>0.336124</td>\n",
       "      <td>12.103893</td>\n",
       "      <td>0.479948</td>\n",
       "    </tr>\n",
       "    <tr>\n",
       "      <th>min</th>\n",
       "      <td>0.000000</td>\n",
       "      <td>44.000000</td>\n",
       "      <td>30.000000</td>\n",
       "      <td>7.000000</td>\n",
       "      <td>16.000000</td>\n",
       "      <td>18.200000</td>\n",
       "      <td>0.078000</td>\n",
       "      <td>21.000000</td>\n",
       "      <td>0.000000</td>\n",
       "    </tr>\n",
       "    <tr>\n",
       "      <th>25%</th>\n",
       "      <td>1.000000</td>\n",
       "      <td>100.000000</td>\n",
       "      <td>65.000000</td>\n",
       "      <td>22.000000</td>\n",
       "      <td>77.500000</td>\n",
       "      <td>27.500000</td>\n",
       "      <td>0.236000</td>\n",
       "      <td>24.000000</td>\n",
       "      <td>0.000000</td>\n",
       "    </tr>\n",
       "    <tr>\n",
       "      <th>50%</th>\n",
       "      <td>3.000000</td>\n",
       "      <td>117.000000</td>\n",
       "      <td>72.000000</td>\n",
       "      <td>30.000000</td>\n",
       "      <td>129.500000</td>\n",
       "      <td>32.000000</td>\n",
       "      <td>0.344500</td>\n",
       "      <td>30.000000</td>\n",
       "      <td>0.000000</td>\n",
       "    </tr>\n",
       "    <tr>\n",
       "      <th>75%</th>\n",
       "      <td>6.000000</td>\n",
       "      <td>140.000000</td>\n",
       "      <td>80.000000</td>\n",
       "      <td>36.000000</td>\n",
       "      <td>185.000000</td>\n",
       "      <td>36.600000</td>\n",
       "      <td>0.605500</td>\n",
       "      <td>41.000000</td>\n",
       "      <td>1.000000</td>\n",
       "    </tr>\n",
       "    <tr>\n",
       "      <th>max</th>\n",
       "      <td>17.000000</td>\n",
       "      <td>199.000000</td>\n",
       "      <td>122.000000</td>\n",
       "      <td>99.000000</td>\n",
       "      <td>744.000000</td>\n",
       "      <td>57.300000</td>\n",
       "      <td>2.329000</td>\n",
       "      <td>81.000000</td>\n",
       "      <td>1.000000</td>\n",
       "    </tr>\n",
       "  </tbody>\n",
       "</table>\n",
       "</div>"
      ],
      "text/plain": [
       "       Pregnancies     Glucose  BloodPressure  SkinThickness     Insulin  \\\n",
       "count   572.000000  567.000000     537.000000     345.000000  198.000000   \n",
       "mean      4.106643  121.647266      73.150838      29.356522  156.934343   \n",
       "std       3.446995   30.132084      12.347184      10.433503  119.066934   \n",
       "min       0.000000   44.000000      30.000000       7.000000   16.000000   \n",
       "25%       1.000000  100.000000      65.000000      22.000000   77.500000   \n",
       "50%       3.000000  117.000000      72.000000      30.000000  129.500000   \n",
       "75%       6.000000  140.000000      80.000000      36.000000  185.000000   \n",
       "max      17.000000  199.000000     122.000000      99.000000  744.000000   \n",
       "\n",
       "              BMI  DiabetesPedigreeFunction         Age     Outcome  \n",
       "count  561.000000                572.000000  572.000000  572.000000  \n",
       "mean    32.327629                  0.459121   34.043706    0.358392  \n",
       "std      6.735437                  0.336124   12.103893    0.479948  \n",
       "min     18.200000                  0.078000   21.000000    0.000000  \n",
       "25%     27.500000                  0.236000   24.000000    0.000000  \n",
       "50%     32.000000                  0.344500   30.000000    0.000000  \n",
       "75%     36.600000                  0.605500   41.000000    1.000000  \n",
       "max     57.300000                  2.329000   81.000000    1.000000  "
      ]
     },
     "execution_count": 4,
     "metadata": {},
     "output_type": "execute_result"
    }
   ],
   "source": [
    "data.describe()"
   ]
  },
  {
   "cell_type": "code",
   "execution_count": 5,
   "id": "3e37ce01-610f-4414-bc6d-7726ef6fb5ba",
   "metadata": {
    "tags": []
   },
   "outputs": [
    {
     "name": "stdout",
     "output_type": "stream",
     "text": [
      "<class 'pandas.core.frame.DataFrame'>\n",
      "RangeIndex: 572 entries, 0 to 571\n",
      "Data columns (total 9 columns):\n",
      " #   Column                    Non-Null Count  Dtype  \n",
      "---  ------                    --------------  -----  \n",
      " 0   Pregnancies               572 non-null    int64  \n",
      " 1   Glucose                   567 non-null    float64\n",
      " 2   BloodPressure             537 non-null    float64\n",
      " 3   SkinThickness             345 non-null    float64\n",
      " 4   Insulin                   198 non-null    float64\n",
      " 5   BMI                       561 non-null    float64\n",
      " 6   DiabetesPedigreeFunction  572 non-null    float64\n",
      " 7   Age                       572 non-null    int64  \n",
      " 8   Outcome                   572 non-null    int64  \n",
      "dtypes: float64(6), int64(3)\n",
      "memory usage: 40.3 KB\n"
     ]
    }
   ],
   "source": [
    "data.info()"
   ]
  },
  {
   "cell_type": "code",
   "execution_count": 6,
   "id": "638ac63f-f2a5-46de-888a-28e6c43cbe00",
   "metadata": {
    "tags": []
   },
   "outputs": [
    {
     "name": "stdout",
     "output_type": "stream",
     "text": [
      "<class 'pandas.core.frame.DataFrame'>\n",
      "Int64Index: 196 entries, 3 to 569\n",
      "Data columns (total 9 columns):\n",
      " #   Column                    Non-Null Count  Dtype  \n",
      "---  ------                    --------------  -----  \n",
      " 0   Pregnancies               196 non-null    int64  \n",
      " 1   Glucose                   196 non-null    float64\n",
      " 2   BloodPressure             196 non-null    float64\n",
      " 3   SkinThickness             196 non-null    float64\n",
      " 4   Insulin                   196 non-null    float64\n",
      " 5   BMI                       196 non-null    float64\n",
      " 6   DiabetesPedigreeFunction  196 non-null    float64\n",
      " 7   Age                       196 non-null    int64  \n",
      " 8   Outcome                   196 non-null    int64  \n",
      "dtypes: float64(6), int64(3)\n",
      "memory usage: 15.3 KB\n"
     ]
    }
   ],
   "source": [
    "dft = data.dropna()\n",
    "dft.info()"
   ]
  },
  {
   "cell_type": "code",
   "execution_count": 7,
   "id": "9c45c7bb-c439-499f-bd1f-e08087820b01",
   "metadata": {
    "tags": []
   },
   "outputs": [
    {
     "data": {
      "text/html": [
       "<div>\n",
       "<style scoped>\n",
       "    .dataframe tbody tr th:only-of-type {\n",
       "        vertical-align: middle;\n",
       "    }\n",
       "\n",
       "    .dataframe tbody tr th {\n",
       "        vertical-align: top;\n",
       "    }\n",
       "\n",
       "    .dataframe thead th {\n",
       "        text-align: right;\n",
       "    }\n",
       "</style>\n",
       "<table border=\"1\" class=\"dataframe\">\n",
       "  <thead>\n",
       "    <tr style=\"text-align: right;\">\n",
       "      <th></th>\n",
       "      <th>Pregnancies</th>\n",
       "      <th>Glucose</th>\n",
       "      <th>BloodPressure</th>\n",
       "      <th>SkinThickness</th>\n",
       "      <th>Insulin</th>\n",
       "      <th>BMI</th>\n",
       "      <th>DiabetesPedigreeFunction</th>\n",
       "      <th>Age</th>\n",
       "      <th>Outcome</th>\n",
       "    </tr>\n",
       "  </thead>\n",
       "  <tbody>\n",
       "    <tr>\n",
       "      <th>Pregnancies</th>\n",
       "      <td>1.000000</td>\n",
       "      <td>0.105022</td>\n",
       "      <td>0.190771</td>\n",
       "      <td>0.061842</td>\n",
       "      <td>-0.024832</td>\n",
       "      <td>-0.084128</td>\n",
       "      <td>0.008964</td>\n",
       "      <td>0.680066</td>\n",
       "      <td>0.184846</td>\n",
       "    </tr>\n",
       "    <tr>\n",
       "      <th>Glucose</th>\n",
       "      <td>0.105022</td>\n",
       "      <td>1.000000</td>\n",
       "      <td>0.133388</td>\n",
       "      <td>0.154857</td>\n",
       "      <td>0.615929</td>\n",
       "      <td>0.148221</td>\n",
       "      <td>0.152898</td>\n",
       "      <td>0.184871</td>\n",
       "      <td>0.493385</td>\n",
       "    </tr>\n",
       "    <tr>\n",
       "      <th>BloodPressure</th>\n",
       "      <td>0.190771</td>\n",
       "      <td>0.133388</td>\n",
       "      <td>1.000000</td>\n",
       "      <td>0.129043</td>\n",
       "      <td>0.071794</td>\n",
       "      <td>0.132632</td>\n",
       "      <td>-0.056589</td>\n",
       "      <td>0.263705</td>\n",
       "      <td>0.029125</td>\n",
       "    </tr>\n",
       "    <tr>\n",
       "      <th>SkinThickness</th>\n",
       "      <td>0.061842</td>\n",
       "      <td>0.154857</td>\n",
       "      <td>0.129043</td>\n",
       "      <td>1.000000</td>\n",
       "      <td>0.185494</td>\n",
       "      <td>0.641783</td>\n",
       "      <td>0.127250</td>\n",
       "      <td>0.159034</td>\n",
       "      <td>0.240680</td>\n",
       "    </tr>\n",
       "    <tr>\n",
       "      <th>Insulin</th>\n",
       "      <td>-0.024832</td>\n",
       "      <td>0.615929</td>\n",
       "      <td>0.071794</td>\n",
       "      <td>0.185494</td>\n",
       "      <td>1.000000</td>\n",
       "      <td>0.279035</td>\n",
       "      <td>0.232013</td>\n",
       "      <td>0.028021</td>\n",
       "      <td>0.269935</td>\n",
       "    </tr>\n",
       "    <tr>\n",
       "      <th>BMI</th>\n",
       "      <td>-0.084128</td>\n",
       "      <td>0.148221</td>\n",
       "      <td>0.132632</td>\n",
       "      <td>0.641783</td>\n",
       "      <td>0.279035</td>\n",
       "      <td>1.000000</td>\n",
       "      <td>0.125093</td>\n",
       "      <td>-0.010020</td>\n",
       "      <td>0.196974</td>\n",
       "    </tr>\n",
       "    <tr>\n",
       "      <th>DiabetesPedigreeFunction</th>\n",
       "      <td>0.008964</td>\n",
       "      <td>0.152898</td>\n",
       "      <td>-0.056589</td>\n",
       "      <td>0.127250</td>\n",
       "      <td>0.232013</td>\n",
       "      <td>0.125093</td>\n",
       "      <td>1.000000</td>\n",
       "      <td>0.073429</td>\n",
       "      <td>0.224229</td>\n",
       "    </tr>\n",
       "    <tr>\n",
       "      <th>Age</th>\n",
       "      <td>0.680066</td>\n",
       "      <td>0.184871</td>\n",
       "      <td>0.263705</td>\n",
       "      <td>0.159034</td>\n",
       "      <td>0.028021</td>\n",
       "      <td>-0.010020</td>\n",
       "      <td>0.073429</td>\n",
       "      <td>1.000000</td>\n",
       "      <td>0.237381</td>\n",
       "    </tr>\n",
       "    <tr>\n",
       "      <th>Outcome</th>\n",
       "      <td>0.184846</td>\n",
       "      <td>0.493385</td>\n",
       "      <td>0.029125</td>\n",
       "      <td>0.240680</td>\n",
       "      <td>0.269935</td>\n",
       "      <td>0.196974</td>\n",
       "      <td>0.224229</td>\n",
       "      <td>0.237381</td>\n",
       "      <td>1.000000</td>\n",
       "    </tr>\n",
       "  </tbody>\n",
       "</table>\n",
       "</div>"
      ],
      "text/plain": [
       "                          Pregnancies   Glucose  BloodPressure  SkinThickness  \\\n",
       "Pregnancies                  1.000000  0.105022       0.190771       0.061842   \n",
       "Glucose                      0.105022  1.000000       0.133388       0.154857   \n",
       "BloodPressure                0.190771  0.133388       1.000000       0.129043   \n",
       "SkinThickness                0.061842  0.154857       0.129043       1.000000   \n",
       "Insulin                     -0.024832  0.615929       0.071794       0.185494   \n",
       "BMI                         -0.084128  0.148221       0.132632       0.641783   \n",
       "DiabetesPedigreeFunction     0.008964  0.152898      -0.056589       0.127250   \n",
       "Age                          0.680066  0.184871       0.263705       0.159034   \n",
       "Outcome                      0.184846  0.493385       0.029125       0.240680   \n",
       "\n",
       "                           Insulin       BMI  DiabetesPedigreeFunction  \\\n",
       "Pregnancies              -0.024832 -0.084128                  0.008964   \n",
       "Glucose                   0.615929  0.148221                  0.152898   \n",
       "BloodPressure             0.071794  0.132632                 -0.056589   \n",
       "SkinThickness             0.185494  0.641783                  0.127250   \n",
       "Insulin                   1.000000  0.279035                  0.232013   \n",
       "BMI                       0.279035  1.000000                  0.125093   \n",
       "DiabetesPedigreeFunction  0.232013  0.125093                  1.000000   \n",
       "Age                       0.028021 -0.010020                  0.073429   \n",
       "Outcome                   0.269935  0.196974                  0.224229   \n",
       "\n",
       "                               Age   Outcome  \n",
       "Pregnancies               0.680066  0.184846  \n",
       "Glucose                   0.184871  0.493385  \n",
       "BloodPressure             0.263705  0.029125  \n",
       "SkinThickness             0.159034  0.240680  \n",
       "Insulin                   0.028021  0.269935  \n",
       "BMI                      -0.010020  0.196974  \n",
       "DiabetesPedigreeFunction  0.073429  0.224229  \n",
       "Age                       1.000000  0.237381  \n",
       "Outcome                   0.237381  1.000000  "
      ]
     },
     "execution_count": 7,
     "metadata": {},
     "output_type": "execute_result"
    }
   ],
   "source": [
    "dft_corr_matrix = dft.corr()\n",
    "dft_corr_matrix"
   ]
  },
  {
   "cell_type": "code",
   "execution_count": 8,
   "id": "625db585-f8a0-4836-b0db-75dbfa410427",
   "metadata": {
    "tags": []
   },
   "outputs": [
    {
     "data": {
      "text/plain": [
       "Pregnancies                 0.184846\n",
       "Glucose                     0.493385\n",
       "BloodPressure               0.029125\n",
       "SkinThickness               0.240680\n",
       "Insulin                     0.269935\n",
       "BMI                         0.196974\n",
       "DiabetesPedigreeFunction    0.224229\n",
       "Age                         0.237381\n",
       "Outcome                     1.000000\n",
       "Name: Outcome, dtype: float64"
      ]
     },
     "execution_count": 8,
     "metadata": {},
     "output_type": "execute_result"
    }
   ],
   "source": [
    "dft_corr_matrix['Outcome']"
   ]
  },
  {
   "cell_type": "markdown",
   "id": "b164d60f-7424-44f4-a9de-b9f709f7abea",
   "metadata": {
    "jp-MarkdownHeadingCollapsed": true,
    "tags": []
   },
   "source": [
    "# Básico"
   ]
  },
  {
   "cell_type": "markdown",
   "id": "345b3e71-406a-41d6-8a37-792800dfeb5e",
   "metadata": {},
   "source": [
    "Sem muitas considerações, apenas remover as linhas com dados ausentes (NaN), treinar e testar a base."
   ]
  },
  {
   "cell_type": "markdown",
   "id": "92ba3cc4-9dcd-4b2c-b461-abc2eee4f9c0",
   "metadata": {
    "tags": []
   },
   "source": [
    "## Embaralhar e cortar"
   ]
  },
  {
   "cell_type": "code",
   "execution_count": 9,
   "id": "e483a9d3-cf67-42ef-982f-81a51f0e2248",
   "metadata": {
    "tags": []
   },
   "outputs": [
    {
     "name": "stdout",
     "output_type": "stream",
     "text": [
      "SAMPLES\n",
      "Treino: 156\n",
      "Teste:40\n"
     ]
    }
   ],
   "source": [
    "# shuffle the rows of the DataFrame randomly\n",
    "dft_shuffled = dft.sample(frac=1, random_state=42) # set random_state to a fixed integer for reproducibility\n",
    "\n",
    "# compute the sizes of the three parts (70% training, 20% validation, 10% test)\n",
    "n = len(dft_shuffled)\n",
    "n_train = int(0.80 * n)\n",
    "n_test = n - n_train\n",
    "\n",
    "# split the shuffled DataFrame into three parts using slicing\n",
    "dft_train = dft_shuffled[:n_train]\n",
    "dft_test = dft_shuffled[-n_test:]\n",
    "\n",
    "print(f\"\"\"SAMPLES\n",
    "Treino: {len(dft_train)}\n",
    "Teste:{len(dft_test)}\"\"\")\n"
   ]
  },
  {
   "cell_type": "code",
   "execution_count": 10,
   "id": "30f892a0-c8fb-42db-99b1-b20afa37a99b",
   "metadata": {
    "tags": []
   },
   "outputs": [],
   "source": [
    "feature_cols = ['Pregnancies', 'Glucose', 'BloodPressure', 'SkinThickness', \n",
    "                'Insulin', 'BMI', 'DiabetesPedigreeFunction', 'Age']\n",
    "X = dft_train[feature_cols]\n",
    "Y = dft_train.Outcome"
   ]
  },
  {
   "cell_type": "markdown",
   "id": "a0a2dde1-4c5b-4dae-884c-d6073583dcf0",
   "metadata": {
    "tags": []
   },
   "source": [
    "## Treino e teste"
   ]
  },
  {
   "cell_type": "code",
   "execution_count": 11,
   "id": "08ab0cbd-a45f-4b20-83bd-69062c81e8bb",
   "metadata": {
    "tags": []
   },
   "outputs": [
    {
     "data": {
      "text/html": [
       "<style>#sk-container-id-1 {color: black;background-color: white;}#sk-container-id-1 pre{padding: 0;}#sk-container-id-1 div.sk-toggleable {background-color: white;}#sk-container-id-1 label.sk-toggleable__label {cursor: pointer;display: block;width: 100%;margin-bottom: 0;padding: 0.3em;box-sizing: border-box;text-align: center;}#sk-container-id-1 label.sk-toggleable__label-arrow:before {content: \"▸\";float: left;margin-right: 0.25em;color: #696969;}#sk-container-id-1 label.sk-toggleable__label-arrow:hover:before {color: black;}#sk-container-id-1 div.sk-estimator:hover label.sk-toggleable__label-arrow:before {color: black;}#sk-container-id-1 div.sk-toggleable__content {max-height: 0;max-width: 0;overflow: hidden;text-align: left;background-color: #f0f8ff;}#sk-container-id-1 div.sk-toggleable__content pre {margin: 0.2em;color: black;border-radius: 0.25em;background-color: #f0f8ff;}#sk-container-id-1 input.sk-toggleable__control:checked~div.sk-toggleable__content {max-height: 200px;max-width: 100%;overflow: auto;}#sk-container-id-1 input.sk-toggleable__control:checked~label.sk-toggleable__label-arrow:before {content: \"▾\";}#sk-container-id-1 div.sk-estimator input.sk-toggleable__control:checked~label.sk-toggleable__label {background-color: #d4ebff;}#sk-container-id-1 div.sk-label input.sk-toggleable__control:checked~label.sk-toggleable__label {background-color: #d4ebff;}#sk-container-id-1 input.sk-hidden--visually {border: 0;clip: rect(1px 1px 1px 1px);clip: rect(1px, 1px, 1px, 1px);height: 1px;margin: -1px;overflow: hidden;padding: 0;position: absolute;width: 1px;}#sk-container-id-1 div.sk-estimator {font-family: monospace;background-color: #f0f8ff;border: 1px dotted black;border-radius: 0.25em;box-sizing: border-box;margin-bottom: 0.5em;}#sk-container-id-1 div.sk-estimator:hover {background-color: #d4ebff;}#sk-container-id-1 div.sk-parallel-item::after {content: \"\";width: 100%;border-bottom: 1px solid gray;flex-grow: 1;}#sk-container-id-1 div.sk-label:hover label.sk-toggleable__label {background-color: #d4ebff;}#sk-container-id-1 div.sk-serial::before {content: \"\";position: absolute;border-left: 1px solid gray;box-sizing: border-box;top: 0;bottom: 0;left: 50%;z-index: 0;}#sk-container-id-1 div.sk-serial {display: flex;flex-direction: column;align-items: center;background-color: white;padding-right: 0.2em;padding-left: 0.2em;position: relative;}#sk-container-id-1 div.sk-item {position: relative;z-index: 1;}#sk-container-id-1 div.sk-parallel {display: flex;align-items: stretch;justify-content: center;background-color: white;position: relative;}#sk-container-id-1 div.sk-item::before, #sk-container-id-1 div.sk-parallel-item::before {content: \"\";position: absolute;border-left: 1px solid gray;box-sizing: border-box;top: 0;bottom: 0;left: 50%;z-index: -1;}#sk-container-id-1 div.sk-parallel-item {display: flex;flex-direction: column;z-index: 1;position: relative;background-color: white;}#sk-container-id-1 div.sk-parallel-item:first-child::after {align-self: flex-end;width: 50%;}#sk-container-id-1 div.sk-parallel-item:last-child::after {align-self: flex-start;width: 50%;}#sk-container-id-1 div.sk-parallel-item:only-child::after {width: 0;}#sk-container-id-1 div.sk-dashed-wrapped {border: 1px dashed gray;margin: 0 0.4em 0.5em 0.4em;box-sizing: border-box;padding-bottom: 0.4em;background-color: white;}#sk-container-id-1 div.sk-label label {font-family: monospace;font-weight: bold;display: inline-block;line-height: 1.2em;}#sk-container-id-1 div.sk-label-container {text-align: center;}#sk-container-id-1 div.sk-container {/* jupyter's `normalize.less` sets `[hidden] { display: none; }` but bootstrap.min.css set `[hidden] { display: none !important; }` so we also need the `!important` here to be able to override the default hidden behavior on the sphinx rendered scikit-learn.org. See: https://github.com/scikit-learn/scikit-learn/issues/21755 */display: inline-block !important;position: relative;}#sk-container-id-1 div.sk-text-repr-fallback {display: none;}</style><div id=\"sk-container-id-1\" class=\"sk-top-container\"><div class=\"sk-text-repr-fallback\"><pre>KNeighborsClassifier(n_neighbors=3)</pre><b>In a Jupyter environment, please rerun this cell to show the HTML representation or trust the notebook. <br />On GitHub, the HTML representation is unable to render, please try loading this page with nbviewer.org.</b></div><div class=\"sk-container\" hidden><div class=\"sk-item\"><div class=\"sk-estimator sk-toggleable\"><input class=\"sk-toggleable__control sk-hidden--visually\" id=\"sk-estimator-id-1\" type=\"checkbox\" checked><label for=\"sk-estimator-id-1\" class=\"sk-toggleable__label sk-toggleable__label-arrow\">KNeighborsClassifier</label><div class=\"sk-toggleable__content\"><pre>KNeighborsClassifier(n_neighbors=3)</pre></div></div></div></div></div>"
      ],
      "text/plain": [
       "KNeighborsClassifier(n_neighbors=3)"
      ]
     },
     "execution_count": 11,
     "metadata": {},
     "output_type": "execute_result"
    }
   ],
   "source": [
    "neigh = KNeighborsClassifier(n_neighbors=3)\n",
    "neigh.fit(X, Y)"
   ]
  },
  {
   "cell_type": "code",
   "execution_count": 12,
   "id": "d62894e5-69e8-4623-970b-a45811b08cd4",
   "metadata": {
    "tags": []
   },
   "outputs": [],
   "source": [
    "Y_pred = neigh.predict(dft_test[feature_cols])"
   ]
  },
  {
   "cell_type": "markdown",
   "id": "f6965089-dc34-4f9d-bb93-e0724aad4a33",
   "metadata": {
    "tags": []
   },
   "source": [
    "## Visualização das métricas"
   ]
  },
  {
   "cell_type": "code",
   "execution_count": 13,
   "id": "dd6b0c9e-da1a-4197-8114-71f71680434d",
   "metadata": {
    "tags": []
   },
   "outputs": [
    {
     "name": "stdout",
     "output_type": "stream",
     "text": [
      "\n",
      "Matriz de Confusão:\n",
      "\n",
      "PV: 20\tFV: 7\n",
      "FV: 4\tFF: 9\n",
      "\n"
     ]
    }
   ],
   "source": [
    "cm = metrics.confusion_matrix(dft_test.Outcome, Y_pred)\n",
    "\n",
    "print(f\"\"\"\\nMatriz de Confusão:\\n\n",
    "PV: {cm[0][0]}\\tFV: {cm[0][1]}\n",
    "FV: {cm[1][0]}\\tFF: {cm[1][1]}\n",
    "\"\"\")"
   ]
  },
  {
   "cell_type": "code",
   "execution_count": 14,
   "id": "744ee97b-2975-4136-a710-50313d1e0c37",
   "metadata": {
    "tags": []
   },
   "outputs": [
    {
     "name": "stdout",
     "output_type": "stream",
     "text": [
      "              precision    recall  f1-score   support\n",
      "\n",
      "           0       0.83      0.74      0.78        27\n",
      "           1       0.56      0.69      0.62        13\n",
      "\n",
      "    accuracy                           0.73        40\n",
      "   macro avg       0.70      0.72      0.70        40\n",
      "weighted avg       0.75      0.72      0.73        40\n",
      "\n"
     ]
    }
   ],
   "source": [
    "report = metrics.classification_report(dft_test.Outcome, Y_pred)\n",
    "print(report)"
   ]
  },
  {
   "cell_type": "code",
   "execution_count": null,
   "id": "2153c123-4784-4593-ba10-4f3c2d2d0845",
   "metadata": {},
   "outputs": [],
   "source": []
  },
  {
   "cell_type": "markdown",
   "id": "283b9fe6-6d55-4d09-b6a8-3fbc4b2b23f7",
   "metadata": {},
   "source": [
    "# Correções de dados"
   ]
  },
  {
   "cell_type": "code",
   "execution_count": 15,
   "id": "827aedec-346e-4019-83c0-0321a3a773c0",
   "metadata": {
    "tags": []
   },
   "outputs": [],
   "source": [
    "dfcv1 = data.copy()"
   ]
  },
  {
   "cell_type": "code",
   "execution_count": 16,
   "id": "1d6730aa-cb50-4eba-bd57-2e9fb7dcaac5",
   "metadata": {
    "tags": []
   },
   "outputs": [],
   "source": [
    "def insulinGen(x):\n",
    "    if pd.isna(x):\n",
    "        return randint(77, 186)\n",
    "    return x;"
   ]
  },
  {
   "cell_type": "code",
   "execution_count": 17,
   "id": "2b1c1d04-9740-496e-ae50-223ccf86bce1",
   "metadata": {
    "tags": []
   },
   "outputs": [],
   "source": [
    "dfcv1['Insulin'] = dfcv1['Insulin'].apply(lambda x: insulinGen(x))"
   ]
  },
  {
   "cell_type": "code",
   "execution_count": 18,
   "id": "bf211a4f-5369-4a43-9ed6-ed8aa7d39ddc",
   "metadata": {
    "tags": []
   },
   "outputs": [
    {
     "data": {
      "text/plain": [
       "Pregnancies                -0.030126\n",
       "Glucose                     0.343435\n",
       "BloodPressure               0.031126\n",
       "SkinThickness               0.147656\n",
       "Insulin                     1.000000\n",
       "BMI                         0.157713\n",
       "DiabetesPedigreeFunction    0.161034\n",
       "Age                        -0.016312\n",
       "Outcome                     0.133128\n",
       "Name: Insulin, dtype: float64"
      ]
     },
     "execution_count": 18,
     "metadata": {},
     "output_type": "execute_result"
    }
   ],
   "source": [
    "dfcv1.corr()['Insulin']"
   ]
  },
  {
   "cell_type": "code",
   "execution_count": 19,
   "id": "36c5b518-5fd0-4a0a-a96f-214ec4c17cb0",
   "metadata": {
    "tags": []
   },
   "outputs": [
    {
     "data": {
      "text/plain": [
       "Pregnancies                -0.017372\n",
       "Glucose                     0.615888\n",
       "BloodPressure               0.071659\n",
       "SkinThickness               0.191158\n",
       "Insulin                     1.000000\n",
       "BMI                         0.282530\n",
       "DiabetesPedigreeFunction    0.219553\n",
       "Age                         0.036192\n",
       "Outcome                     0.274332\n",
       "Name: Insulin, dtype: float64"
      ]
     },
     "execution_count": 19,
     "metadata": {},
     "output_type": "execute_result"
    }
   ],
   "source": [
    "data.corr()['Insulin']"
   ]
  },
  {
   "cell_type": "code",
   "execution_count": 33,
   "id": "fd4d5a2e-ff77-4b07-9a1f-aae21c280f8b",
   "metadata": {
    "tags": []
   },
   "outputs": [
    {
     "name": "stdout",
     "output_type": "stream",
     "text": [
      "\n",
      "Matriz de Confusão:\n",
      "\n",
      "    | Pos\t| Neg\n",
      "----------------------------\n",
      "Pos | PV 36\t| NF 13\n",
      "Neg | NF 7\t| NV 12\n",
      "\n",
      "              precision    recall  f1-score   support\n",
      "\n",
      "           0       0.84      0.73      0.78        49\n",
      "           1       0.48      0.63      0.55        19\n",
      "\n",
      "    accuracy                           0.71        68\n",
      "   macro avg       0.66      0.68      0.66        68\n",
      "weighted avg       0.74      0.71      0.72        68\n",
      "\n"
     ]
    }
   ],
   "source": [
    "dfcv1_clean = dfcv1.dropna()\n",
    "\n",
    "dft_shuffled = dfcv1_clean.sample(frac=1, random_state=42) # set random_state to a fixed integer for reproducibility\n",
    "\n",
    "# compute the sizes of the three parts (70% training, 20% validation, 10% test)\n",
    "n = len(dft_shuffled)\n",
    "n_train = int(0.80 * n)\n",
    "n_test = n - n_train\n",
    "\n",
    "# split the shuffled DataFrame into three parts using slicing\n",
    "dft_train = dft_shuffled[:n_train]\n",
    "dft_test = dft_shuffled[-n_test:]\n",
    "\n",
    "feature_cols = ['Pregnancies', 'Glucose', 'BloodPressure', 'SkinThickness', \n",
    "                'Insulin', 'BMI', 'DiabetesPedigreeFunction', 'Age']\n",
    "X = dft_train[feature_cols]\n",
    "Y = dft_train.Outcome\n",
    "\n",
    "neigh = KNeighborsClassifier(n_neighbors=3)\n",
    "neigh.fit(X, Y)\n",
    "\n",
    "Y_pred = neigh.predict(dft_test[feature_cols])\n",
    "\n",
    "cm = metrics.confusion_matrix(dft_test.Outcome, Y_pred)\n",
    "\n",
    "print(f\"\"\"\\nMatriz de Confusão:\\n\n",
    "    | Pos\\t| Neg\n",
    "----------------------------\n",
    "Pos | PV {cm[0][0]}\\t| NF {cm[0][1]}\n",
    "Neg | NF {cm[1][0]}\\t| NV {cm[1][1]}\n",
    "\"\"\")\n",
    "\n",
    "report = metrics.classification_report(dft_test.Outcome, Y_pred)\n",
    "print(report)"
   ]
  },
  {
   "cell_type": "code",
   "execution_count": null,
   "id": "76a192d9-d874-412a-850b-013ddf085c50",
   "metadata": {},
   "outputs": [],
   "source": []
  }
 ],
 "metadata": {
  "kernelspec": {
   "display_name": "UFAL-IA-AP-2023",
   "language": "python",
   "name": "ufal-ia-ap-2023"
  },
  "language_info": {
   "codemirror_mode": {
    "name": "ipython",
    "version": 3
   },
   "file_extension": ".py",
   "mimetype": "text/x-python",
   "name": "python",
   "nbconvert_exporter": "python",
   "pygments_lexer": "ipython3",
   "version": "3.10.9"
  }
 },
 "nbformat": 4,
 "nbformat_minor": 5
}
