{
 "cells": [
  {
   "cell_type": "markdown",
   "id": "2cc3e3c0-bf4f-4f5a-bd61-acc33de6aadf",
   "metadata": {
    "tags": []
   },
   "source": [
    "## Carregamento de libs e dados"
   ]
  },
  {
   "cell_type": "code",
   "execution_count": 1,
   "id": "921799ca-7a70-41f2-b17b-3aa0f6e89f8c",
   "metadata": {
    "tags": []
   },
   "outputs": [
    {
     "name": "stdout",
     "output_type": "stream",
     "text": [
      "##### INFO #####\n",
      "<class 'pandas.core.frame.DataFrame'>\n",
      "RangeIndex: 572 entries, 0 to 571\n",
      "Data columns (total 9 columns):\n",
      " #   Column                    Non-Null Count  Dtype  \n",
      "---  ------                    --------------  -----  \n",
      " 0   Pregnancies               572 non-null    int64  \n",
      " 1   Glucose                   567 non-null    float64\n",
      " 2   BloodPressure             537 non-null    float64\n",
      " 3   SkinThickness             345 non-null    float64\n",
      " 4   Insulin                   198 non-null    float64\n",
      " 5   BMI                       561 non-null    float64\n",
      " 6   DiabetesPedigreeFunction  572 non-null    float64\n",
      " 7   Age                       572 non-null    int64  \n",
      " 8   Outcome                   572 non-null    int64  \n",
      "dtypes: float64(6), int64(3)\n",
      "memory usage: 40.3 KB\n",
      "None\n",
      "\n",
      "##### STATS #####\n",
      "       Pregnancies     Glucose  BloodPressure  SkinThickness     Insulin  \\\n",
      "count   572.000000  567.000000     537.000000     345.000000  198.000000   \n",
      "mean      4.106643  121.647266      73.150838      29.356522  156.934343   \n",
      "std       3.446995   30.132084      12.347184      10.433503  119.066934   \n",
      "min       0.000000   44.000000      30.000000       7.000000   16.000000   \n",
      "25%       1.000000  100.000000      65.000000      22.000000   77.500000   \n",
      "50%       3.000000  117.000000      72.000000      30.000000  129.500000   \n",
      "75%       6.000000  140.000000      80.000000      36.000000  185.000000   \n",
      "max      17.000000  199.000000     122.000000      99.000000  744.000000   \n",
      "\n",
      "              BMI  DiabetesPedigreeFunction         Age     Outcome  \n",
      "count  561.000000                572.000000  572.000000  572.000000  \n",
      "mean    32.327629                  0.459121   34.043706    0.358392  \n",
      "std      6.735437                  0.336124   12.103893    0.479948  \n",
      "min     18.200000                  0.078000   21.000000    0.000000  \n",
      "25%     27.500000                  0.236000   24.000000    0.000000  \n",
      "50%     32.000000                  0.344500   30.000000    0.000000  \n",
      "75%     36.600000                  0.605500   41.000000    1.000000  \n",
      "max     57.300000                  2.329000   81.000000    1.000000  \n"
     ]
    }
   ],
   "source": [
    "import warnings\n",
    "warnings.filterwarnings('ignore')\n",
    "\n",
    "import matplotlib as mpl\n",
    "import matplotlib.pyplot as plt\n",
    "import numpy as np\n",
    "import pandas as pd\n",
    "from sklearn.neighbors import KNeighborsClassifier\n",
    "from sklearn import metrics\n",
    "from random import randint\n",
    "\n",
    "data = pd.read_csv('diabetes_dataset.csv')\n",
    "\n",
    "print(\"##### INFO #####\")\n",
    "print(data.info())\n",
    "\n",
    "print(\"\\n##### STATS #####\")\n",
    "print(data.describe())"
   ]
  },
  {
   "cell_type": "markdown",
   "id": "c3fe4898-b9a4-4196-a0ce-1afefdd8cf49",
   "metadata": {
    "tags": []
   },
   "source": [
    "## Definições de funções"
   ]
  },
  {
   "cell_type": "code",
   "execution_count": 2,
   "id": "1281152c-825b-4109-9d5b-2bd9d6e11794",
   "metadata": {
    "tags": []
   },
   "outputs": [],
   "source": [
    "def trainTestReport(df, train_fact):\n",
    "    \n",
    "    n = len(df)\n",
    "    n_train = int(train_fact * n)\n",
    "    n_test = n - n_train\n",
    "    \n",
    "    df_train = df[:n_train]\n",
    "    df_test = df[-n_test:]\n",
    "    \n",
    "    feature_cols = ['Pregnancies', 'Glucose', 'BloodPressure', 'SkinThickness', \n",
    "                'Insulin', 'BMI', 'DiabetesPedigreeFunction', 'Age']\n",
    "    \n",
    "    X = df_train[feature_cols]\n",
    "    Y = df_train.Outcome\n",
    "    \n",
    "    neigh = KNeighborsClassifier(n_neighbors=3)\n",
    "    neigh.fit(X, Y)\n",
    "    \n",
    "    Y_pred = neigh.predict(df_test[feature_cols])\n",
    "    \n",
    "    acc = metrics.accuracy_score(df_test.Outcome, Y_pred)\n",
    "    pre = metrics.precision_score(df_test.Outcome, Y_pred)\n",
    "    rec = metrics.recall_score(df_test.Outcome, Y_pred)\n",
    "    \n",
    "    return acc, pre, rec"
   ]
  },
  {
   "cell_type": "code",
   "execution_count": 3,
   "id": "6691fcbe-42ca-4705-a576-deb16c40d4f7",
   "metadata": {
    "tags": []
   },
   "outputs": [],
   "source": [
    "def sliceTrainAndTest(df, train_fract, var_to_mod=None, varModFunct=None, lower_cut=-1, upper_cut=-1):\n",
    "    \n",
    "    # Por segurança, trabalhamos com uma cópia.\n",
    "    dfc = df.copy()\n",
    "    \n",
    "    # Embaralha todo o dataframe (fraction = 1), usando seed 42 para reproducibilidade.\n",
    "    #df_shuf = df.sample(frac=1, random_state=42)\n",
    "    df_shuf = dfc.sample(frac=1)\n",
    "    \n",
    "    # Cortes dos dois pedaços do dataframe que vamos usar para comparar modificações.\n",
    "    n = len(df_shuf)\n",
    "    n1 = int(n/2)\n",
    "    n2 = n - n1\n",
    "    \n",
    "    # df_base será nossa referência. Única modificação será passar um dataframe.dropna() e então treinar e testar.\n",
    "    df_base = df_shuf[:n1]\n",
    "    \n",
    "    # df_mod será nossa cobaia. Na coluna definida por var_to_mod vamos aplicar a função varModFunct() e então treinar e testar.\n",
    "    df_mod = df_shuf[-n2:]\n",
    "    \n",
    "    if lower_cut > -1:\n",
    "        df_mod = df_mod[(df_mod[var_to_mod] is np.nan) or (df_mod[var_to_mod] >= lower_cut)]\n",
    "    \n",
    "    if upper_cut > -1:\n",
    "        df_mod = df_mod[(df_mod[var_to_mod] is np.nan) or (df_mod[var_to_mod] <= upper_cut)]\n",
    "    \n",
    "    \"\"\" DF Base - Limpeza e treino com fatia de referência \"\"\"\n",
    "    df_base = df_base.dropna()\n",
    "    base_acc, base_pre, base_rec = trainTestReport(df_base, train_fract)\n",
    "    \n",
    "    \"\"\" DF Modificado - Aplica varModFunc() em var_to_mod \"\"\"\n",
    "    if var_to_mod is not None:\n",
    "        \n",
    "        df_mod[var_to_mod] = df_mod[var_to_mod].apply(lambda x: varModFunct(x))\n",
    "        df_mod = df_mod.dropna()\n",
    "        mod_acc, mod_pre, mod_rec = trainTestReport(df_mod, train_fract)\n",
    "        \n",
    "        return {'base':{ 'acc': base_acc, 'pre': base_pre, 'rec': base_rec },\n",
    "                'mod' :{ 'acc': mod_acc,  'pre': mod_pre,  'rec': mod_rec}}\n",
    "    \n",
    "    return { 'acc': base_acc, 'pre': base_pre, 'rec': base_rec }\n",
    "    "
   ]
  },
  {
   "cell_type": "code",
   "execution_count": 4,
   "id": "85ebc493-36b3-44a7-88c9-b510f02633c2",
   "metadata": {},
   "outputs": [],
   "source": [
    "def acumulateTrainTestRuns(df, train_fract, var_to_mod, varModFunct, lower_cut, upper_cut, runs=100):\n",
    "    \n",
    "    BaseAcc = []\n",
    "    BasePre = []\n",
    "    BaseRec = []\n",
    "    \n",
    "    ModAcc = []\n",
    "    ModPre = []\n",
    "    ModRec = []\n",
    "    \n",
    "    for i in range(0, runs):\n",
    "        results = sliceTrainAndTest(df, train_fract, var_to_mod, varModFunct, lower_cut, upper_cut)\n",
    "        BaseAcc.append(results['base']['acc'])\n",
    "        BasePre.append(results['base']['pre'])\n",
    "        BaseRec.append(results['base']['rec'])\n",
    "        ModAcc.append(results['mod']['acc'])\n",
    "        ModPre.append(results['mod']['pre'])\n",
    "        ModRec.append(results['mod']['rec'])\n",
    "    \n",
    "    df_results = pd.DataFrame({\n",
    "        'Base Accuracy': BaseAcc,\n",
    "        'Mod Accuracy': ModAcc,\n",
    "        'Base Precision': BasePre,\n",
    "        'Mod Precision': ModPre,\n",
    "        'Base Recall': BaseRec,\n",
    "        'Mod Recall': ModRec\n",
    "    })\n",
    "    \n",
    "    return df_results"
   ]
  },
  {
   "cell_type": "code",
   "execution_count": 5,
   "id": "44c5f612-0894-4101-9773-52fc42b9bd43",
   "metadata": {
    "tags": []
   },
   "outputs": [],
   "source": [
    "def boundedRandomGen(x, min_val, max_val):\n",
    "    if pd.isna(x):\n",
    "        return randint(min_val, max_val)\n",
    "    return x;"
   ]
  },
  {
   "cell_type": "markdown",
   "id": "4e8bfaea-aef1-4f99-9315-73ab59668c0c",
   "metadata": {
    "tags": []
   },
   "source": [
    "## Melhorias"
   ]
  },
  {
   "cell_type": "markdown",
   "id": "63be95cb-c34e-41a2-8e28-a9818945fdec",
   "metadata": {
    "tags": []
   },
   "source": [
    "### Insulina"
   ]
  },
  {
   "cell_type": "code",
   "execution_count": 6,
   "id": "13b9dd1e-4baa-4438-98af-2be085d547c0",
   "metadata": {
    "tags": []
   },
   "outputs": [
    {
     "data": {
      "image/png": "[encoded data removed]",
      "text/plain": [
       "<Figure size 2000x400 with 2 Axes>"
      ]
     },
     "metadata": {},
     "output_type": "display_data"
    }
   ],
   "source": [
    "dft = data.copy()\n",
    "dft = dft.dropna()\n",
    "\n",
    "fig, axes = plt.subplots(ncols=2, figsize=(20, 4))\n",
    "\n",
    "axes[0].hist(dft.Insulin, bins=20)\n",
    "axes[1].boxplot(dft.Insulin, vert=False)\n",
    "\n",
    "plt.show()"
   ]
  },
  {
   "cell_type": "code",
   "execution_count": 7,
   "id": "efa9840c-d39f-49cd-a9db-889525b2a120",
   "metadata": {
    "tags": []
   },
   "outputs": [
    {
     "data": {
      "text/plain": [
       "count    198.000000\n",
       "mean     156.934343\n",
       "std      119.066934\n",
       "min       16.000000\n",
       "25%       77.500000\n",
       "50%      129.500000\n",
       "75%      185.000000\n",
       "max      744.000000\n",
       "Name: Insulin, dtype: float64"
      ]
     },
     "execution_count": 7,
     "metadata": {},
     "output_type": "execute_result"
    }
   ],
   "source": [
    "data.describe()['Insulin']"
   ]
  },
  {
   "cell_type": "code",
   "execution_count": 8,
   "id": "0727b11f-a7bc-4cea-a1f3-d8724c17298f",
   "metadata": {
    "tags": []
   },
   "outputs": [
    {
     "data": {
      "text/html": [
       "<div>\n",
       "<style scoped>\n",
       "    .dataframe tbody tr th:only-of-type {\n",
       "        vertical-align: middle;\n",
       "    }\n",
       "\n",
       "    .dataframe tbody tr th {\n",
       "        vertical-align: top;\n",
       "    }\n",
       "\n",
       "    .dataframe thead th {\n",
       "        text-align: right;\n",
       "    }\n",
       "</style>\n",
       "<table border=\"1\" class=\"dataframe\">\n",
       "  <thead>\n",
       "    <tr style=\"text-align: right;\">\n",
       "      <th></th>\n",
       "      <th>Base Accuracy</th>\n",
       "      <th>Mod Accuracy</th>\n",
       "      <th>Base Precision</th>\n",
       "      <th>Mod Precision</th>\n",
       "      <th>Base Recall</th>\n",
       "      <th>Mod Recall</th>\n",
       "    </tr>\n",
       "  </thead>\n",
       "  <tbody>\n",
       "    <tr>\n",
       "      <th>count</th>\n",
       "      <td>500.000000</td>\n",
       "      <td>500.000000</td>\n",
       "      <td>500.000000</td>\n",
       "      <td>500.000000</td>\n",
       "      <td>500.000000</td>\n",
       "      <td>500.000000</td>\n",
       "    </tr>\n",
       "    <tr>\n",
       "      <th>mean</th>\n",
       "      <td>0.679218</td>\n",
       "      <td>0.686920</td>\n",
       "      <td>0.535791</td>\n",
       "      <td>0.544214</td>\n",
       "      <td>0.469481</td>\n",
       "      <td>0.469632</td>\n",
       "    </tr>\n",
       "    <tr>\n",
       "      <th>std</th>\n",
       "      <td>0.097675</td>\n",
       "      <td>0.074901</td>\n",
       "      <td>0.214921</td>\n",
       "      <td>0.164054</td>\n",
       "      <td>0.204621</td>\n",
       "      <td>0.164837</td>\n",
       "    </tr>\n",
       "    <tr>\n",
       "      <th>min</th>\n",
       "      <td>0.315789</td>\n",
       "      <td>0.468750</td>\n",
       "      <td>0.000000</td>\n",
       "      <td>0.000000</td>\n",
       "      <td>0.000000</td>\n",
       "      <td>0.000000</td>\n",
       "    </tr>\n",
       "    <tr>\n",
       "      <th>25%</th>\n",
       "      <td>0.619048</td>\n",
       "      <td>0.636364</td>\n",
       "      <td>0.400000</td>\n",
       "      <td>0.444444</td>\n",
       "      <td>0.333333</td>\n",
       "      <td>0.363636</td>\n",
       "    </tr>\n",
       "    <tr>\n",
       "      <th>50%</th>\n",
       "      <td>0.684211</td>\n",
       "      <td>0.685714</td>\n",
       "      <td>0.500000</td>\n",
       "      <td>0.545455</td>\n",
       "      <td>0.500000</td>\n",
       "      <td>0.500000</td>\n",
       "    </tr>\n",
       "    <tr>\n",
       "      <th>75%</th>\n",
       "      <td>0.750000</td>\n",
       "      <td>0.735294</td>\n",
       "      <td>0.666667</td>\n",
       "      <td>0.642857</td>\n",
       "      <td>0.600000</td>\n",
       "      <td>0.571429</td>\n",
       "    </tr>\n",
       "    <tr>\n",
       "      <th>max</th>\n",
       "      <td>0.944444</td>\n",
       "      <td>0.885714</td>\n",
       "      <td>1.000000</td>\n",
       "      <td>1.000000</td>\n",
       "      <td>1.000000</td>\n",
       "      <td>1.000000</td>\n",
       "    </tr>\n",
       "  </tbody>\n",
       "</table>\n",
       "</div>"
      ],
      "text/plain": [
       "       Base Accuracy  Mod Accuracy  Base Precision  Mod Precision  \\\n",
       "count     500.000000    500.000000      500.000000     500.000000   \n",
       "mean        0.679218      0.686920        0.535791       0.544214   \n",
       "std         0.097675      0.074901        0.214921       0.164054   \n",
       "min         0.315789      0.468750        0.000000       0.000000   \n",
       "25%         0.619048      0.636364        0.400000       0.444444   \n",
       "50%         0.684211      0.685714        0.500000       0.545455   \n",
       "75%         0.750000      0.735294        0.666667       0.642857   \n",
       "max         0.944444      0.885714        1.000000       1.000000   \n",
       "\n",
       "       Base Recall  Mod Recall  \n",
       "count   500.000000  500.000000  \n",
       "mean      0.469481    0.469632  \n",
       "std       0.204621    0.164837  \n",
       "min       0.000000    0.000000  \n",
       "25%       0.333333    0.363636  \n",
       "50%       0.500000    0.500000  \n",
       "75%       0.600000    0.571429  \n",
       "max       1.000000    1.000000  "
      ]
     },
     "execution_count": 8,
     "metadata": {},
     "output_type": "execute_result"
    }
   ],
   "source": [
    "df_insulin = acumulateTrainTestRuns(data, 0.8, 'Insulin', lambda x: boundedRandomGen(x, 50, 350), lower_cut=-1, upper_cut=-1, runs=500)\n",
    "df_insulin.describe()"
   ]
  },
  {
   "cell_type": "markdown",
   "id": "e11a4dd7-13a7-4ebf-934c-432716de706b",
   "metadata": {
    "tags": []
   },
   "source": [
    "### Espessura da pele"
   ]
  },
  {
   "cell_type": "code",
   "execution_count": 9,
   "id": "d6824474-8dbf-4a5d-a4e4-88705809801f",
   "metadata": {
    "tags": []
   },
   "outputs": [
    {
     "data": {
      "image/png": "[encoded data removed]",
      "text/plain": [
       "<Figure size 2000x400 with 2 Axes>"
      ]
     },
     "metadata": {},
     "output_type": "display_data"
    }
   ],
   "source": [
    "dft = data.copy()\n",
    "dft = dft.dropna()\n",
    "\n",
    "fig, axes = plt.subplots(ncols=2, figsize=(20, 4))\n",
    "\n",
    "axes[0].hist(dft.SkinThickness, bins=10)\n",
    "axes[1].boxplot(dft.SkinThickness, vert=False)\n",
    "\n",
    "plt.show()"
   ]
  },
  {
   "cell_type": "code",
   "execution_count": 10,
   "id": "9164fd5c-fd53-4184-9b79-09418d6456fb",
   "metadata": {
    "tags": []
   },
   "outputs": [
    {
     "data": {
      "text/plain": [
       "count    345.000000\n",
       "mean      29.356522\n",
       "std       10.433503\n",
       "min        7.000000\n",
       "25%       22.000000\n",
       "50%       30.000000\n",
       "75%       36.000000\n",
       "max       99.000000\n",
       "Name: SkinThickness, dtype: float64"
      ]
     },
     "execution_count": 10,
     "metadata": {},
     "output_type": "execute_result"
    }
   ],
   "source": [
    "data.describe()['SkinThickness']"
   ]
  },
  {
   "cell_type": "code",
   "execution_count": 11,
   "id": "38630792-2da9-4acd-b250-86fd1f900a15",
   "metadata": {
    "tags": []
   },
   "outputs": [
    {
     "data": {
      "text/html": [
       "<div>\n",
       "<style scoped>\n",
       "    .dataframe tbody tr th:only-of-type {\n",
       "        vertical-align: middle;\n",
       "    }\n",
       "\n",
       "    .dataframe tbody tr th {\n",
       "        vertical-align: top;\n",
       "    }\n",
       "\n",
       "    .dataframe thead th {\n",
       "        text-align: right;\n",
       "    }\n",
       "</style>\n",
       "<table border=\"1\" class=\"dataframe\">\n",
       "  <thead>\n",
       "    <tr style=\"text-align: right;\">\n",
       "      <th></th>\n",
       "      <th>Base Accuracy</th>\n",
       "      <th>Mod Accuracy</th>\n",
       "      <th>Base Precision</th>\n",
       "      <th>Mod Precision</th>\n",
       "      <th>Base Recall</th>\n",
       "      <th>Mod Recall</th>\n",
       "    </tr>\n",
       "  </thead>\n",
       "  <tbody>\n",
       "    <tr>\n",
       "      <th>count</th>\n",
       "      <td>500.000000</td>\n",
       "      <td>500.000000</td>\n",
       "      <td>500.000000</td>\n",
       "      <td>500.000000</td>\n",
       "      <td>500.000000</td>\n",
       "      <td>500.000000</td>\n",
       "    </tr>\n",
       "    <tr>\n",
       "      <th>mean</th>\n",
       "      <td>0.677508</td>\n",
       "      <td>0.672442</td>\n",
       "      <td>0.527502</td>\n",
       "      <td>0.535437</td>\n",
       "      <td>0.479727</td>\n",
       "      <td>0.468921</td>\n",
       "    </tr>\n",
       "    <tr>\n",
       "      <th>std</th>\n",
       "      <td>0.099303</td>\n",
       "      <td>0.100146</td>\n",
       "      <td>0.221737</td>\n",
       "      <td>0.211251</td>\n",
       "      <td>0.227246</td>\n",
       "      <td>0.206148</td>\n",
       "    </tr>\n",
       "    <tr>\n",
       "      <th>min</th>\n",
       "      <td>0.400000</td>\n",
       "      <td>0.333333</td>\n",
       "      <td>0.000000</td>\n",
       "      <td>0.000000</td>\n",
       "      <td>0.000000</td>\n",
       "      <td>0.000000</td>\n",
       "    </tr>\n",
       "    <tr>\n",
       "      <th>25%</th>\n",
       "      <td>0.600000</td>\n",
       "      <td>0.600000</td>\n",
       "      <td>0.400000</td>\n",
       "      <td>0.400000</td>\n",
       "      <td>0.333333</td>\n",
       "      <td>0.333333</td>\n",
       "    </tr>\n",
       "    <tr>\n",
       "      <th>50%</th>\n",
       "      <td>0.684211</td>\n",
       "      <td>0.681818</td>\n",
       "      <td>0.500000</td>\n",
       "      <td>0.500000</td>\n",
       "      <td>0.500000</td>\n",
       "      <td>0.500000</td>\n",
       "    </tr>\n",
       "    <tr>\n",
       "      <th>75%</th>\n",
       "      <td>0.750000</td>\n",
       "      <td>0.750000</td>\n",
       "      <td>0.666667</td>\n",
       "      <td>0.666667</td>\n",
       "      <td>0.666667</td>\n",
       "      <td>0.600000</td>\n",
       "    </tr>\n",
       "    <tr>\n",
       "      <th>max</th>\n",
       "      <td>0.904762</td>\n",
       "      <td>1.000000</td>\n",
       "      <td>1.000000</td>\n",
       "      <td>1.000000</td>\n",
       "      <td>1.000000</td>\n",
       "      <td>1.000000</td>\n",
       "    </tr>\n",
       "  </tbody>\n",
       "</table>\n",
       "</div>"
      ],
      "text/plain": [
       "       Base Accuracy  Mod Accuracy  Base Precision  Mod Precision  \\\n",
       "count     500.000000    500.000000      500.000000     500.000000   \n",
       "mean        0.677508      0.672442        0.527502       0.535437   \n",
       "std         0.099303      0.100146        0.221737       0.211251   \n",
       "min         0.400000      0.333333        0.000000       0.000000   \n",
       "25%         0.600000      0.600000        0.400000       0.400000   \n",
       "50%         0.684211      0.681818        0.500000       0.500000   \n",
       "75%         0.750000      0.750000        0.666667       0.666667   \n",
       "max         0.904762      1.000000        1.000000       1.000000   \n",
       "\n",
       "       Base Recall  Mod Recall  \n",
       "count   500.000000  500.000000  \n",
       "mean      0.479727    0.468921  \n",
       "std       0.227246    0.206148  \n",
       "min       0.000000    0.000000  \n",
       "25%       0.333333    0.333333  \n",
       "50%       0.500000    0.500000  \n",
       "75%       0.666667    0.600000  \n",
       "max       1.000000    1.000000  "
      ]
     },
     "execution_count": 11,
     "metadata": {},
     "output_type": "execute_result"
    }
   ],
   "source": [
    "df_skin = acumulateTrainTestRuns(data, 0.8, 'SkinThickness', lambda x: boundedRandomGen(x, 10, 50), -1, -1, 500)\n",
    "df_skin.describe()"
   ]
  },
  {
   "cell_type": "markdown",
   "id": "fff5c2a4-d536-4d40-a9ef-2f9156913167",
   "metadata": {
    "tags": []
   },
   "source": [
    "### Pressão sanguínea"
   ]
  },
  {
   "cell_type": "code",
   "execution_count": 12,
   "id": "ea3be095-e69d-4ff1-a0a8-c63369ebaba5",
   "metadata": {
    "tags": []
   },
   "outputs": [
    {
     "data": {
      "image/png": "[encoded data removed]",
      "text/plain": [
       "<Figure size 2000x400 with 2 Axes>"
      ]
     },
     "metadata": {},
     "output_type": "display_data"
    }
   ],
   "source": [
    "dft = data.copy()\n",
    "dft = dft.dropna()\n",
    "\n",
    "fig, axes = plt.subplots(ncols=2, figsize=(20, 4))\n",
    "\n",
    "axes[0].hist(dft.BloodPressure, bins=10)\n",
    "axes[1].boxplot(dft.BloodPressure, vert=False)\n",
    "\n",
    "plt.show()"
   ]
  },
  {
   "cell_type": "code",
   "execution_count": 13,
   "id": "c15ac7c9-1f22-46f8-a763-1afbcd342e2d",
   "metadata": {
    "tags": []
   },
   "outputs": [
    {
     "data": {
      "text/plain": [
       "count    537.000000\n",
       "mean      73.150838\n",
       "std       12.347184\n",
       "min       30.000000\n",
       "25%       65.000000\n",
       "50%       72.000000\n",
       "75%       80.000000\n",
       "max      122.000000\n",
       "Name: BloodPressure, dtype: float64"
      ]
     },
     "execution_count": 13,
     "metadata": {},
     "output_type": "execute_result"
    }
   ],
   "source": [
    "data.describe()['BloodPressure']"
   ]
  },
  {
   "cell_type": "code",
   "execution_count": 14,
   "id": "7874c2b9-8baf-49dd-8f74-e493c193390b",
   "metadata": {
    "tags": []
   },
   "outputs": [
    {
     "data": {
      "text/html": [
       "<div>\n",
       "<style scoped>\n",
       "    .dataframe tbody tr th:only-of-type {\n",
       "        vertical-align: middle;\n",
       "    }\n",
       "\n",
       "    .dataframe tbody tr th {\n",
       "        vertical-align: top;\n",
       "    }\n",
       "\n",
       "    .dataframe thead th {\n",
       "        text-align: right;\n",
       "    }\n",
       "</style>\n",
       "<table border=\"1\" class=\"dataframe\">\n",
       "  <thead>\n",
       "    <tr style=\"text-align: right;\">\n",
       "      <th></th>\n",
       "      <th>Base Accuracy</th>\n",
       "      <th>Mod Accuracy</th>\n",
       "      <th>Base Precision</th>\n",
       "      <th>Mod Precision</th>\n",
       "      <th>Base Recall</th>\n",
       "      <th>Mod Recall</th>\n",
       "    </tr>\n",
       "  </thead>\n",
       "  <tbody>\n",
       "    <tr>\n",
       "      <th>count</th>\n",
       "      <td>500.000000</td>\n",
       "      <td>500.000000</td>\n",
       "      <td>500.000000</td>\n",
       "      <td>500.000000</td>\n",
       "      <td>500.000000</td>\n",
       "      <td>500.000000</td>\n",
       "    </tr>\n",
       "    <tr>\n",
       "      <th>mean</th>\n",
       "      <td>0.679712</td>\n",
       "      <td>0.680616</td>\n",
       "      <td>0.532817</td>\n",
       "      <td>0.543986</td>\n",
       "      <td>0.491716</td>\n",
       "      <td>0.472116</td>\n",
       "    </tr>\n",
       "    <tr>\n",
       "      <th>std</th>\n",
       "      <td>0.107788</td>\n",
       "      <td>0.104333</td>\n",
       "      <td>0.213808</td>\n",
       "      <td>0.230571</td>\n",
       "      <td>0.225586</td>\n",
       "      <td>0.219487</td>\n",
       "    </tr>\n",
       "    <tr>\n",
       "      <th>min</th>\n",
       "      <td>0.368421</td>\n",
       "      <td>0.350000</td>\n",
       "      <td>0.000000</td>\n",
       "      <td>0.000000</td>\n",
       "      <td>0.000000</td>\n",
       "      <td>0.000000</td>\n",
       "    </tr>\n",
       "    <tr>\n",
       "      <th>25%</th>\n",
       "      <td>0.600000</td>\n",
       "      <td>0.611111</td>\n",
       "      <td>0.400000</td>\n",
       "      <td>0.400000</td>\n",
       "      <td>0.333333</td>\n",
       "      <td>0.333333</td>\n",
       "    </tr>\n",
       "    <tr>\n",
       "      <th>50%</th>\n",
       "      <td>0.684211</td>\n",
       "      <td>0.684211</td>\n",
       "      <td>0.500000</td>\n",
       "      <td>0.500000</td>\n",
       "      <td>0.500000</td>\n",
       "      <td>0.477273</td>\n",
       "    </tr>\n",
       "    <tr>\n",
       "      <th>75%</th>\n",
       "      <td>0.761905</td>\n",
       "      <td>0.750000</td>\n",
       "      <td>0.666667</td>\n",
       "      <td>0.675000</td>\n",
       "      <td>0.666667</td>\n",
       "      <td>0.643939</td>\n",
       "    </tr>\n",
       "    <tr>\n",
       "      <th>max</th>\n",
       "      <td>0.950000</td>\n",
       "      <td>0.947368</td>\n",
       "      <td>1.000000</td>\n",
       "      <td>1.000000</td>\n",
       "      <td>1.000000</td>\n",
       "      <td>1.000000</td>\n",
       "    </tr>\n",
       "  </tbody>\n",
       "</table>\n",
       "</div>"
      ],
      "text/plain": [
       "       Base Accuracy  Mod Accuracy  Base Precision  Mod Precision  \\\n",
       "count     500.000000    500.000000      500.000000     500.000000   \n",
       "mean        0.679712      0.680616        0.532817       0.543986   \n",
       "std         0.107788      0.104333        0.213808       0.230571   \n",
       "min         0.368421      0.350000        0.000000       0.000000   \n",
       "25%         0.600000      0.611111        0.400000       0.400000   \n",
       "50%         0.684211      0.684211        0.500000       0.500000   \n",
       "75%         0.761905      0.750000        0.666667       0.675000   \n",
       "max         0.950000      0.947368        1.000000       1.000000   \n",
       "\n",
       "       Base Recall  Mod Recall  \n",
       "count   500.000000  500.000000  \n",
       "mean      0.491716    0.472116  \n",
       "std       0.225586    0.219487  \n",
       "min       0.000000    0.000000  \n",
       "25%       0.333333    0.333333  \n",
       "50%       0.500000    0.477273  \n",
       "75%       0.666667    0.643939  \n",
       "max       1.000000    1.000000  "
      ]
     },
     "execution_count": 14,
     "metadata": {},
     "output_type": "execute_result"
    }
   ],
   "source": [
    "df_bp = acumulateTrainTestRuns(data, 0.8, 'BloodPressure', lambda x: boundedRandomGen(x, 45, 110), 40, 120, 500)\n",
    "df_bp.describe()"
   ]
  },
  {
   "cell_type": "markdown",
   "id": "b7ab73be-f1e6-4371-8db2-f3c597f7144b",
   "metadata": {
    "tags": []
   },
   "source": [
    "### IMC"
   ]
  },
  {
   "cell_type": "code",
   "execution_count": 15,
   "id": "d4987983-1c01-4e56-9909-0f3397e861b2",
   "metadata": {
    "tags": []
   },
   "outputs": [
    {
     "data": {
      "image/png": "[encoded data removed]",
      "text/plain": [
       "<Figure size 2000x400 with 2 Axes>"
      ]
     },
     "metadata": {},
     "output_type": "display_data"
    }
   ],
   "source": [
    "dft = data.copy()\n",
    "dft = dft.dropna()\n",
    "\n",
    "fig, axes = plt.subplots(ncols=2, figsize=(20, 4))\n",
    "\n",
    "axes[0].hist(dft.BMI, bins=10)\n",
    "axes[1].boxplot(dft.BMI, vert=False)\n",
    "\n",
    "plt.show()"
   ]
  },
  {
   "cell_type": "code",
   "execution_count": 16,
   "id": "97f83b7a-e515-421e-90fe-6cf099e443bc",
   "metadata": {
    "tags": []
   },
   "outputs": [
    {
     "data": {
      "text/plain": [
       "count    561.000000\n",
       "mean      32.327629\n",
       "std        6.735437\n",
       "min       18.200000\n",
       "25%       27.500000\n",
       "50%       32.000000\n",
       "75%       36.600000\n",
       "max       57.300000\n",
       "Name: BMI, dtype: float64"
      ]
     },
     "execution_count": 16,
     "metadata": {},
     "output_type": "execute_result"
    }
   ],
   "source": [
    "data.describe()['BMI']"
   ]
  },
  {
   "cell_type": "code",
   "execution_count": 17,
   "id": "d3bc349e-05e5-4bff-ada8-ec90e7486ccd",
   "metadata": {
    "tags": []
   },
   "outputs": [
    {
     "data": {
      "text/html": [
       "<div>\n",
       "<style scoped>\n",
       "    .dataframe tbody tr th:only-of-type {\n",
       "        vertical-align: middle;\n",
       "    }\n",
       "\n",
       "    .dataframe tbody tr th {\n",
       "        vertical-align: top;\n",
       "    }\n",
       "\n",
       "    .dataframe thead th {\n",
       "        text-align: right;\n",
       "    }\n",
       "</style>\n",
       "<table border=\"1\" class=\"dataframe\">\n",
       "  <thead>\n",
       "    <tr style=\"text-align: right;\">\n",
       "      <th></th>\n",
       "      <th>Base Accuracy</th>\n",
       "      <th>Mod Accuracy</th>\n",
       "      <th>Base Precision</th>\n",
       "      <th>Mod Precision</th>\n",
       "      <th>Base Recall</th>\n",
       "      <th>Mod Recall</th>\n",
       "    </tr>\n",
       "  </thead>\n",
       "  <tbody>\n",
       "    <tr>\n",
       "      <th>count</th>\n",
       "      <td>500.000000</td>\n",
       "      <td>500.000000</td>\n",
       "      <td>500.000000</td>\n",
       "      <td>500.000000</td>\n",
       "      <td>500.000000</td>\n",
       "      <td>500.000000</td>\n",
       "    </tr>\n",
       "    <tr>\n",
       "      <th>mean</th>\n",
       "      <td>0.676797</td>\n",
       "      <td>0.694862</td>\n",
       "      <td>0.533162</td>\n",
       "      <td>0.569775</td>\n",
       "      <td>0.485349</td>\n",
       "      <td>0.519025</td>\n",
       "    </tr>\n",
       "    <tr>\n",
       "      <th>std</th>\n",
       "      <td>0.103636</td>\n",
       "      <td>0.098823</td>\n",
       "      <td>0.212314</td>\n",
       "      <td>0.217831</td>\n",
       "      <td>0.217689</td>\n",
       "      <td>0.222731</td>\n",
       "    </tr>\n",
       "    <tr>\n",
       "      <th>min</th>\n",
       "      <td>0.277778</td>\n",
       "      <td>0.368421</td>\n",
       "      <td>0.000000</td>\n",
       "      <td>0.000000</td>\n",
       "      <td>0.000000</td>\n",
       "      <td>0.000000</td>\n",
       "    </tr>\n",
       "    <tr>\n",
       "      <th>25%</th>\n",
       "      <td>0.606522</td>\n",
       "      <td>0.631579</td>\n",
       "      <td>0.400000</td>\n",
       "      <td>0.428571</td>\n",
       "      <td>0.333333</td>\n",
       "      <td>0.375000</td>\n",
       "    </tr>\n",
       "    <tr>\n",
       "      <th>50%</th>\n",
       "      <td>0.684211</td>\n",
       "      <td>0.700000</td>\n",
       "      <td>0.500000</td>\n",
       "      <td>0.571429</td>\n",
       "      <td>0.500000</td>\n",
       "      <td>0.500000</td>\n",
       "    </tr>\n",
       "    <tr>\n",
       "      <th>75%</th>\n",
       "      <td>0.750000</td>\n",
       "      <td>0.761905</td>\n",
       "      <td>0.666667</td>\n",
       "      <td>0.714286</td>\n",
       "      <td>0.635417</td>\n",
       "      <td>0.666667</td>\n",
       "    </tr>\n",
       "    <tr>\n",
       "      <th>max</th>\n",
       "      <td>0.950000</td>\n",
       "      <td>0.952381</td>\n",
       "      <td>1.000000</td>\n",
       "      <td>1.000000</td>\n",
       "      <td>1.000000</td>\n",
       "      <td>1.000000</td>\n",
       "    </tr>\n",
       "  </tbody>\n",
       "</table>\n",
       "</div>"
      ],
      "text/plain": [
       "       Base Accuracy  Mod Accuracy  Base Precision  Mod Precision  \\\n",
       "count     500.000000    500.000000      500.000000     500.000000   \n",
       "mean        0.676797      0.694862        0.533162       0.569775   \n",
       "std         0.103636      0.098823        0.212314       0.217831   \n",
       "min         0.277778      0.368421        0.000000       0.000000   \n",
       "25%         0.606522      0.631579        0.400000       0.428571   \n",
       "50%         0.684211      0.700000        0.500000       0.571429   \n",
       "75%         0.750000      0.761905        0.666667       0.714286   \n",
       "max         0.950000      0.952381        1.000000       1.000000   \n",
       "\n",
       "       Base Recall  Mod Recall  \n",
       "count   500.000000  500.000000  \n",
       "mean      0.485349    0.519025  \n",
       "std       0.217689    0.222731  \n",
       "min       0.000000    0.000000  \n",
       "25%       0.333333    0.375000  \n",
       "50%       0.500000    0.500000  \n",
       "75%       0.635417    0.666667  \n",
       "max       1.000000    1.000000  "
      ]
     },
     "execution_count": 17,
     "metadata": {},
     "output_type": "execute_result"
    }
   ],
   "source": [
    "df_bmi = acumulateTrainTestRuns(data, 0.8, 'BMI', lambda x: boundedRandomGen(x, 20, 50), -1, 50, 500)\n",
    "df_bmi.describe()"
   ]
  },
  {
   "cell_type": "markdown",
   "id": "04c5ecdf-0749-4ee8-b675-43d26165ffb2",
   "metadata": {
    "tags": []
   },
   "source": [
    "### Glucose"
   ]
  },
  {
   "cell_type": "code",
   "execution_count": 18,
   "id": "e89c58ed-f083-4d02-b8ed-3f512556ef01",
   "metadata": {
    "tags": []
   },
   "outputs": [
    {
     "data": {
      "image/png": "[encoded data removed]",
      "text/plain": [
       "<Figure size 2000x400 with 2 Axes>"
      ]
     },
     "metadata": {},
     "output_type": "display_data"
    }
   ],
   "source": [
    "dft = data.copy()\n",
    "dft = dft.dropna()\n",
    "\n",
    "fig, axes = plt.subplots(ncols=2, figsize=(20, 4))\n",
    "\n",
    "axes[0].hist(dft.Glucose, bins=10)\n",
    "axes[1].boxplot(dft.Glucose, vert=False)\n",
    "\n",
    "plt.show()"
   ]
  },
  {
   "cell_type": "code",
   "execution_count": 19,
   "id": "5b105081-d8ab-4f39-8bf4-a9591fb035e4",
   "metadata": {
    "tags": []
   },
   "outputs": [
    {
     "data": {
      "text/plain": [
       "count    567.000000\n",
       "mean     121.647266\n",
       "std       30.132084\n",
       "min       44.000000\n",
       "25%      100.000000\n",
       "50%      117.000000\n",
       "75%      140.000000\n",
       "max      199.000000\n",
       "Name: Glucose, dtype: float64"
      ]
     },
     "execution_count": 19,
     "metadata": {},
     "output_type": "execute_result"
    }
   ],
   "source": [
    "data.describe()['Glucose']"
   ]
  },
  {
   "cell_type": "code",
   "execution_count": 20,
   "id": "0598002f-5bf7-4493-a4f8-4eaea942115f",
   "metadata": {
    "tags": []
   },
   "outputs": [
    {
     "data": {
      "text/html": [
       "<div>\n",
       "<style scoped>\n",
       "    .dataframe tbody tr th:only-of-type {\n",
       "        vertical-align: middle;\n",
       "    }\n",
       "\n",
       "    .dataframe tbody tr th {\n",
       "        vertical-align: top;\n",
       "    }\n",
       "\n",
       "    .dataframe thead th {\n",
       "        text-align: right;\n",
       "    }\n",
       "</style>\n",
       "<table border=\"1\" class=\"dataframe\">\n",
       "  <thead>\n",
       "    <tr style=\"text-align: right;\">\n",
       "      <th></th>\n",
       "      <th>Base Accuracy</th>\n",
       "      <th>Mod Accuracy</th>\n",
       "      <th>Base Precision</th>\n",
       "      <th>Mod Precision</th>\n",
       "      <th>Base Recall</th>\n",
       "      <th>Mod Recall</th>\n",
       "    </tr>\n",
       "  </thead>\n",
       "  <tbody>\n",
       "    <tr>\n",
       "      <th>count</th>\n",
       "      <td>500.000000</td>\n",
       "      <td>500.000000</td>\n",
       "      <td>500.000000</td>\n",
       "      <td>500.000000</td>\n",
       "      <td>500.000000</td>\n",
       "      <td>500.000000</td>\n",
       "    </tr>\n",
       "    <tr>\n",
       "      <th>mean</th>\n",
       "      <td>0.673725</td>\n",
       "      <td>0.669389</td>\n",
       "      <td>0.521009</td>\n",
       "      <td>0.545133</td>\n",
       "      <td>0.460451</td>\n",
       "      <td>0.466603</td>\n",
       "    </tr>\n",
       "    <tr>\n",
       "      <th>std</th>\n",
       "      <td>0.102508</td>\n",
       "      <td>0.101514</td>\n",
       "      <td>0.233519</td>\n",
       "      <td>0.216571</td>\n",
       "      <td>0.209788</td>\n",
       "      <td>0.213158</td>\n",
       "    </tr>\n",
       "    <tr>\n",
       "      <th>min</th>\n",
       "      <td>0.368421</td>\n",
       "      <td>0.300000</td>\n",
       "      <td>0.000000</td>\n",
       "      <td>0.000000</td>\n",
       "      <td>0.000000</td>\n",
       "      <td>0.000000</td>\n",
       "    </tr>\n",
       "    <tr>\n",
       "      <th>25%</th>\n",
       "      <td>0.600000</td>\n",
       "      <td>0.600000</td>\n",
       "      <td>0.333333</td>\n",
       "      <td>0.400000</td>\n",
       "      <td>0.333333</td>\n",
       "      <td>0.333333</td>\n",
       "    </tr>\n",
       "    <tr>\n",
       "      <th>50%</th>\n",
       "      <td>0.683014</td>\n",
       "      <td>0.666667</td>\n",
       "      <td>0.500000</td>\n",
       "      <td>0.500000</td>\n",
       "      <td>0.444444</td>\n",
       "      <td>0.444444</td>\n",
       "    </tr>\n",
       "    <tr>\n",
       "      <th>75%</th>\n",
       "      <td>0.750000</td>\n",
       "      <td>0.736842</td>\n",
       "      <td>0.666667</td>\n",
       "      <td>0.666667</td>\n",
       "      <td>0.600000</td>\n",
       "      <td>0.600000</td>\n",
       "    </tr>\n",
       "    <tr>\n",
       "      <th>max</th>\n",
       "      <td>0.952381</td>\n",
       "      <td>0.916667</td>\n",
       "      <td>1.000000</td>\n",
       "      <td>1.000000</td>\n",
       "      <td>1.000000</td>\n",
       "      <td>1.000000</td>\n",
       "    </tr>\n",
       "  </tbody>\n",
       "</table>\n",
       "</div>"
      ],
      "text/plain": [
       "       Base Accuracy  Mod Accuracy  Base Precision  Mod Precision  \\\n",
       "count     500.000000    500.000000      500.000000     500.000000   \n",
       "mean        0.673725      0.669389        0.521009       0.545133   \n",
       "std         0.102508      0.101514        0.233519       0.216571   \n",
       "min         0.368421      0.300000        0.000000       0.000000   \n",
       "25%         0.600000      0.600000        0.333333       0.400000   \n",
       "50%         0.683014      0.666667        0.500000       0.500000   \n",
       "75%         0.750000      0.736842        0.666667       0.666667   \n",
       "max         0.952381      0.916667        1.000000       1.000000   \n",
       "\n",
       "       Base Recall  Mod Recall  \n",
       "count   500.000000  500.000000  \n",
       "mean      0.460451    0.466603  \n",
       "std       0.209788    0.213158  \n",
       "min       0.000000    0.000000  \n",
       "25%       0.333333    0.333333  \n",
       "50%       0.444444    0.444444  \n",
       "75%       0.600000    0.600000  \n",
       "max       1.000000    1.000000  "
      ]
     },
     "execution_count": 20,
     "metadata": {},
     "output_type": "execute_result"
    }
   ],
   "source": [
    "df_glu = acumulateTrainTestRuns(data, 0.8, 'Glucose', lambda x: boundedRandomGen(x, 45, 200), -1, -1, 500)\n",
    "df_glu.describe()"
   ]
  },
  {
   "cell_type": "markdown",
   "id": "e37448ee-aebc-49f0-8b38-d88414860dc3",
   "metadata": {
    "jp-MarkdownHeadingCollapsed": true,
    "tags": []
   },
   "source": [
    "### Correção de outliers"
   ]
  },
  {
   "cell_type": "code",
   "execution_count": 21,
   "id": "90078275-0e8c-4799-b020-1666d8a64408",
   "metadata": {
    "tags": []
   },
   "outputs": [
    {
     "data": {
      "image/png": "[encoded data removed]",
      "text/plain": [
       "<Figure size 2000x1200 with 6 Axes>"
      ]
     },
     "metadata": {},
     "output_type": "display_data"
    }
   ],
   "source": [
    "dft = data.copy()\n",
    "dft = dft.dropna()\n",
    "\n",
    "fig, axes = plt.subplots(nrows=3, ncols=2, figsize=(20, 12))\n",
    "\n",
    "axes[0, 0].hist(dft.Pregnancies, bins=10)\n",
    "axes[0, 1].boxplot(dft.Pregnancies, vert=False)\n",
    "axes[0, 0].set_title(\"Gravidez\")\n",
    "\n",
    "axes[1, 0].hist(dft.DiabetesPedigreeFunction, bins=10)\n",
    "axes[1, 1].boxplot(dft.DiabetesPedigreeFunction, vert=False)\n",
    "axes[1, 0].set_title(\"Pedi Fun\")\n",
    "\n",
    "axes[2, 0].hist(dft.Age, bins=10)\n",
    "axes[2, 1].boxplot(dft.Age, vert=False)\n",
    "axes[2, 0].set_title(\"Idade\")\n",
    "\n",
    "plt.show()"
   ]
  },
  {
   "cell_type": "code",
   "execution_count": 22,
   "id": "e6de91d6-9404-4537-b3db-c7a5efae07dd",
   "metadata": {
    "tags": []
   },
   "outputs": [
    {
     "data": {
      "text/html": [
       "<div>\n",
       "<style scoped>\n",
       "    .dataframe tbody tr th:only-of-type {\n",
       "        vertical-align: middle;\n",
       "    }\n",
       "\n",
       "    .dataframe tbody tr th {\n",
       "        vertical-align: top;\n",
       "    }\n",
       "\n",
       "    .dataframe thead th {\n",
       "        text-align: right;\n",
       "    }\n",
       "</style>\n",
       "<table border=\"1\" class=\"dataframe\">\n",
       "  <thead>\n",
       "    <tr style=\"text-align: right;\">\n",
       "      <th></th>\n",
       "      <th>Base Accuracy</th>\n",
       "      <th>Mod Accuracy</th>\n",
       "      <th>Base Precision</th>\n",
       "      <th>Mod Precision</th>\n",
       "      <th>Base Recall</th>\n",
       "      <th>Mod Recall</th>\n",
       "    </tr>\n",
       "  </thead>\n",
       "  <tbody>\n",
       "    <tr>\n",
       "      <th>count</th>\n",
       "      <td>500.000000</td>\n",
       "      <td>500.000000</td>\n",
       "      <td>500.000000</td>\n",
       "      <td>500.000000</td>\n",
       "      <td>500.000000</td>\n",
       "      <td>500.000000</td>\n",
       "    </tr>\n",
       "    <tr>\n",
       "      <th>mean</th>\n",
       "      <td>0.693841</td>\n",
       "      <td>0.673771</td>\n",
       "      <td>0.526083</td>\n",
       "      <td>0.506917</td>\n",
       "      <td>0.442460</td>\n",
       "      <td>0.423806</td>\n",
       "    </tr>\n",
       "    <tr>\n",
       "      <th>std</th>\n",
       "      <td>0.106073</td>\n",
       "      <td>0.100359</td>\n",
       "      <td>0.253343</td>\n",
       "      <td>0.245495</td>\n",
       "      <td>0.232508</td>\n",
       "      <td>0.221304</td>\n",
       "    </tr>\n",
       "    <tr>\n",
       "      <th>min</th>\n",
       "      <td>0.333333</td>\n",
       "      <td>0.368421</td>\n",
       "      <td>0.000000</td>\n",
       "      <td>0.000000</td>\n",
       "      <td>0.000000</td>\n",
       "      <td>0.000000</td>\n",
       "    </tr>\n",
       "    <tr>\n",
       "      <th>25%</th>\n",
       "      <td>0.631579</td>\n",
       "      <td>0.611111</td>\n",
       "      <td>0.333333</td>\n",
       "      <td>0.333333</td>\n",
       "      <td>0.285714</td>\n",
       "      <td>0.250000</td>\n",
       "    </tr>\n",
       "    <tr>\n",
       "      <th>50%</th>\n",
       "      <td>0.700000</td>\n",
       "      <td>0.684211</td>\n",
       "      <td>0.500000</td>\n",
       "      <td>0.500000</td>\n",
       "      <td>0.428571</td>\n",
       "      <td>0.428571</td>\n",
       "    </tr>\n",
       "    <tr>\n",
       "      <th>75%</th>\n",
       "      <td>0.777778</td>\n",
       "      <td>0.736842</td>\n",
       "      <td>0.666667</td>\n",
       "      <td>0.666667</td>\n",
       "      <td>0.600000</td>\n",
       "      <td>0.571429</td>\n",
       "    </tr>\n",
       "    <tr>\n",
       "      <th>max</th>\n",
       "      <td>0.950000</td>\n",
       "      <td>0.947368</td>\n",
       "      <td>1.000000</td>\n",
       "      <td>1.000000</td>\n",
       "      <td>1.000000</td>\n",
       "      <td>1.000000</td>\n",
       "    </tr>\n",
       "  </tbody>\n",
       "</table>\n",
       "</div>"
      ],
      "text/plain": [
       "       Base Accuracy  Mod Accuracy  Base Precision  Mod Precision  \\\n",
       "count     500.000000    500.000000      500.000000     500.000000   \n",
       "mean        0.693841      0.673771        0.526083       0.506917   \n",
       "std         0.106073      0.100359        0.253343       0.245495   \n",
       "min         0.333333      0.368421        0.000000       0.000000   \n",
       "25%         0.631579      0.611111        0.333333       0.333333   \n",
       "50%         0.700000      0.684211        0.500000       0.500000   \n",
       "75%         0.777778      0.736842        0.666667       0.666667   \n",
       "max         0.950000      0.947368        1.000000       1.000000   \n",
       "\n",
       "       Base Recall  Mod Recall  \n",
       "count   500.000000  500.000000  \n",
       "mean      0.442460    0.423806  \n",
       "std       0.232508    0.221304  \n",
       "min       0.000000    0.000000  \n",
       "25%       0.285714    0.250000  \n",
       "50%       0.428571    0.428571  \n",
       "75%       0.600000    0.571429  \n",
       "max       1.000000    1.000000  "
      ]
     },
     "execution_count": 22,
     "metadata": {},
     "output_type": "execute_result"
    }
   ],
   "source": [
    "dft = data.copy()\n",
    "dft = dft[dft.Pregnancies < 11]\n",
    "df_preg = acumulateTrainTestRuns(dft, 0.8, 'Pregnancies', lambda x: x, -1, -1, 500)\n",
    "df_preg.describe()"
   ]
  },
  {
   "cell_type": "code",
   "execution_count": 23,
   "id": "16466af9-4b61-4532-96be-60914451998f",
   "metadata": {
    "tags": []
   },
   "outputs": [
    {
     "data": {
      "text/html": [
       "<div>\n",
       "<style scoped>\n",
       "    .dataframe tbody tr th:only-of-type {\n",
       "        vertical-align: middle;\n",
       "    }\n",
       "\n",
       "    .dataframe tbody tr th {\n",
       "        vertical-align: top;\n",
       "    }\n",
       "\n",
       "    .dataframe thead th {\n",
       "        text-align: right;\n",
       "    }\n",
       "</style>\n",
       "<table border=\"1\" class=\"dataframe\">\n",
       "  <thead>\n",
       "    <tr style=\"text-align: right;\">\n",
       "      <th></th>\n",
       "      <th>Base Accuracy</th>\n",
       "      <th>Mod Accuracy</th>\n",
       "      <th>Base Precision</th>\n",
       "      <th>Mod Precision</th>\n",
       "      <th>Base Recall</th>\n",
       "      <th>Mod Recall</th>\n",
       "    </tr>\n",
       "  </thead>\n",
       "  <tbody>\n",
       "    <tr>\n",
       "      <th>count</th>\n",
       "      <td>500.000000</td>\n",
       "      <td>500.000000</td>\n",
       "      <td>500.000000</td>\n",
       "      <td>500.000000</td>\n",
       "      <td>500.000000</td>\n",
       "      <td>500.000000</td>\n",
       "    </tr>\n",
       "    <tr>\n",
       "      <th>mean</th>\n",
       "      <td>0.673137</td>\n",
       "      <td>0.669833</td>\n",
       "      <td>0.542115</td>\n",
       "      <td>0.526141</td>\n",
       "      <td>0.479323</td>\n",
       "      <td>0.485188</td>\n",
       "    </tr>\n",
       "    <tr>\n",
       "      <th>std</th>\n",
       "      <td>0.102001</td>\n",
       "      <td>0.097908</td>\n",
       "      <td>0.218714</td>\n",
       "      <td>0.211795</td>\n",
       "      <td>0.216335</td>\n",
       "      <td>0.224866</td>\n",
       "    </tr>\n",
       "    <tr>\n",
       "      <th>min</th>\n",
       "      <td>0.350000</td>\n",
       "      <td>0.350000</td>\n",
       "      <td>0.000000</td>\n",
       "      <td>0.000000</td>\n",
       "      <td>0.000000</td>\n",
       "      <td>0.000000</td>\n",
       "    </tr>\n",
       "    <tr>\n",
       "      <th>25%</th>\n",
       "      <td>0.600000</td>\n",
       "      <td>0.600000</td>\n",
       "      <td>0.400000</td>\n",
       "      <td>0.400000</td>\n",
       "      <td>0.333333</td>\n",
       "      <td>0.333333</td>\n",
       "    </tr>\n",
       "    <tr>\n",
       "      <th>50%</th>\n",
       "      <td>0.666667</td>\n",
       "      <td>0.666667</td>\n",
       "      <td>0.500000</td>\n",
       "      <td>0.500000</td>\n",
       "      <td>0.500000</td>\n",
       "      <td>0.500000</td>\n",
       "    </tr>\n",
       "    <tr>\n",
       "      <th>75%</th>\n",
       "      <td>0.740132</td>\n",
       "      <td>0.750000</td>\n",
       "      <td>0.666667</td>\n",
       "      <td>0.666667</td>\n",
       "      <td>0.625000</td>\n",
       "      <td>0.666667</td>\n",
       "    </tr>\n",
       "    <tr>\n",
       "      <th>max</th>\n",
       "      <td>0.950000</td>\n",
       "      <td>0.900000</td>\n",
       "      <td>1.000000</td>\n",
       "      <td>1.000000</td>\n",
       "      <td>1.000000</td>\n",
       "      <td>1.000000</td>\n",
       "    </tr>\n",
       "  </tbody>\n",
       "</table>\n",
       "</div>"
      ],
      "text/plain": [
       "       Base Accuracy  Mod Accuracy  Base Precision  Mod Precision  \\\n",
       "count     500.000000    500.000000      500.000000     500.000000   \n",
       "mean        0.673137      0.669833        0.542115       0.526141   \n",
       "std         0.102001      0.097908        0.218714       0.211795   \n",
       "min         0.350000      0.350000        0.000000       0.000000   \n",
       "25%         0.600000      0.600000        0.400000       0.400000   \n",
       "50%         0.666667      0.666667        0.500000       0.500000   \n",
       "75%         0.740132      0.750000        0.666667       0.666667   \n",
       "max         0.950000      0.900000        1.000000       1.000000   \n",
       "\n",
       "       Base Recall  Mod Recall  \n",
       "count   500.000000  500.000000  \n",
       "mean      0.479323    0.485188  \n",
       "std       0.216335    0.224866  \n",
       "min       0.000000    0.000000  \n",
       "25%       0.333333    0.333333  \n",
       "50%       0.500000    0.500000  \n",
       "75%       0.625000    0.666667  \n",
       "max       1.000000    1.000000  "
      ]
     },
     "execution_count": 23,
     "metadata": {},
     "output_type": "execute_result"
    }
   ],
   "source": [
    "dft = data.copy()\n",
    "dft = dft[dft.Age < 60]\n",
    "df_age = acumulateTrainTestRuns(dft, 0.8, 'Age', lambda x: x, -1, -1, 500)\n",
    "df_age.describe()"
   ]
  },
  {
   "cell_type": "code",
   "execution_count": 24,
   "id": "7ff3ba1a-7a89-4ce2-a317-4a5e503cc8a5",
   "metadata": {
    "tags": []
   },
   "outputs": [
    {
     "data": {
      "text/html": [
       "<div>\n",
       "<style scoped>\n",
       "    .dataframe tbody tr th:only-of-type {\n",
       "        vertical-align: middle;\n",
       "    }\n",
       "\n",
       "    .dataframe tbody tr th {\n",
       "        vertical-align: top;\n",
       "    }\n",
       "\n",
       "    .dataframe thead th {\n",
       "        text-align: right;\n",
       "    }\n",
       "</style>\n",
       "<table border=\"1\" class=\"dataframe\">\n",
       "  <thead>\n",
       "    <tr style=\"text-align: right;\">\n",
       "      <th></th>\n",
       "      <th>Base Accuracy</th>\n",
       "      <th>Mod Accuracy</th>\n",
       "      <th>Base Precision</th>\n",
       "      <th>Mod Precision</th>\n",
       "      <th>Base Recall</th>\n",
       "      <th>Mod Recall</th>\n",
       "    </tr>\n",
       "  </thead>\n",
       "  <tbody>\n",
       "    <tr>\n",
       "      <th>count</th>\n",
       "      <td>500.000000</td>\n",
       "      <td>500.000000</td>\n",
       "      <td>500.000000</td>\n",
       "      <td>500.000000</td>\n",
       "      <td>500.000000</td>\n",
       "      <td>500.000000</td>\n",
       "    </tr>\n",
       "    <tr>\n",
       "      <th>mean</th>\n",
       "      <td>0.684563</td>\n",
       "      <td>0.692994</td>\n",
       "      <td>0.525828</td>\n",
       "      <td>0.540096</td>\n",
       "      <td>0.448729</td>\n",
       "      <td>0.453283</td>\n",
       "    </tr>\n",
       "    <tr>\n",
       "      <th>std</th>\n",
       "      <td>0.102087</td>\n",
       "      <td>0.104262</td>\n",
       "      <td>0.235483</td>\n",
       "      <td>0.246057</td>\n",
       "      <td>0.222558</td>\n",
       "      <td>0.221300</td>\n",
       "    </tr>\n",
       "    <tr>\n",
       "      <th>min</th>\n",
       "      <td>0.333333</td>\n",
       "      <td>0.388889</td>\n",
       "      <td>0.000000</td>\n",
       "      <td>0.000000</td>\n",
       "      <td>0.000000</td>\n",
       "      <td>0.000000</td>\n",
       "    </tr>\n",
       "    <tr>\n",
       "      <th>25%</th>\n",
       "      <td>0.611111</td>\n",
       "      <td>0.631579</td>\n",
       "      <td>0.375000</td>\n",
       "      <td>0.400000</td>\n",
       "      <td>0.285714</td>\n",
       "      <td>0.333333</td>\n",
       "    </tr>\n",
       "    <tr>\n",
       "      <th>50%</th>\n",
       "      <td>0.684211</td>\n",
       "      <td>0.700000</td>\n",
       "      <td>0.500000</td>\n",
       "      <td>0.500000</td>\n",
       "      <td>0.428571</td>\n",
       "      <td>0.444444</td>\n",
       "    </tr>\n",
       "    <tr>\n",
       "      <th>75%</th>\n",
       "      <td>0.750000</td>\n",
       "      <td>0.761905</td>\n",
       "      <td>0.666667</td>\n",
       "      <td>0.666667</td>\n",
       "      <td>0.600000</td>\n",
       "      <td>0.600000</td>\n",
       "    </tr>\n",
       "    <tr>\n",
       "      <th>max</th>\n",
       "      <td>0.947368</td>\n",
       "      <td>0.947368</td>\n",
       "      <td>1.000000</td>\n",
       "      <td>1.000000</td>\n",
       "      <td>1.000000</td>\n",
       "      <td>1.000000</td>\n",
       "    </tr>\n",
       "  </tbody>\n",
       "</table>\n",
       "</div>"
      ],
      "text/plain": [
       "       Base Accuracy  Mod Accuracy  Base Precision  Mod Precision  \\\n",
       "count     500.000000    500.000000      500.000000     500.000000   \n",
       "mean        0.684563      0.692994        0.525828       0.540096   \n",
       "std         0.102087      0.104262        0.235483       0.246057   \n",
       "min         0.333333      0.388889        0.000000       0.000000   \n",
       "25%         0.611111      0.631579        0.375000       0.400000   \n",
       "50%         0.684211      0.700000        0.500000       0.500000   \n",
       "75%         0.750000      0.761905        0.666667       0.666667   \n",
       "max         0.947368      0.947368        1.000000       1.000000   \n",
       "\n",
       "       Base Recall  Mod Recall  \n",
       "count   500.000000  500.000000  \n",
       "mean      0.448729    0.453283  \n",
       "std       0.222558    0.221300  \n",
       "min       0.000000    0.000000  \n",
       "25%       0.285714    0.333333  \n",
       "50%       0.428571    0.444444  \n",
       "75%       0.600000    0.600000  \n",
       "max       1.000000    1.000000  "
      ]
     },
     "execution_count": 24,
     "metadata": {},
     "output_type": "execute_result"
    }
   ],
   "source": [
    "dft = data.copy()\n",
    "dft = dft[dft.DiabetesPedigreeFunction < 1.2]\n",
    "df_ped = acumulateTrainTestRuns(dft, 0.8, 'DiabetesPedigreeFunction', lambda x: x, -1, -1, 500)\n",
    "df_ped.describe()"
   ]
  },
  {
   "cell_type": "markdown",
   "id": "036297ad-7208-414a-a069-937dc28cad3e",
   "metadata": {
    "tags": []
   },
   "source": [
    "## Prototipagem"
   ]
  },
  {
   "cell_type": "code",
   "execution_count": 25,
   "id": "c098cf9e-9e8f-4380-a8ba-66f15d4cedf8",
   "metadata": {
    "tags": []
   },
   "outputs": [
    {
     "name": "stdout",
     "output_type": "stream",
     "text": [
      "<class 'pandas.core.frame.DataFrame'>\n",
      "Int64Index: 566 entries, 0 to 571\n",
      "Data columns (total 9 columns):\n",
      " #   Column                    Non-Null Count  Dtype  \n",
      "---  ------                    --------------  -----  \n",
      " 0   Pregnancies               566 non-null    int64  \n",
      " 1   Glucose                   566 non-null    float64\n",
      " 2   BloodPressure             566 non-null    float64\n",
      " 3   SkinThickness             566 non-null    float64\n",
      " 4   Insulin                   566 non-null    float64\n",
      " 5   BMI                       566 non-null    float64\n",
      " 6   DiabetesPedigreeFunction  566 non-null    float64\n",
      " 7   Age                       566 non-null    int64  \n",
      " 8   Outcome                   566 non-null    int64  \n",
      "dtypes: float64(6), int64(3)\n",
      "memory usage: 44.2 KB\n"
     ]
    }
   ],
   "source": [
    "data_impr = data.copy()\n",
    "\n",
    "# Insulina\n",
    "data_impr['Insulin'] = data_impr['Insulin'].apply(lambda x: boundedRandomGen(x, 50, 350))\n",
    "\n",
    "# Espessura da pele\n",
    "data_impr['SkinThickness'] = data_impr['SkinThickness'].apply(lambda x: boundedRandomGen(x, 10, 50))\n",
    "\n",
    "# Pressão sanguínea\n",
    "data_impr['BloodPressure'] = data_impr['BloodPressure'].apply(lambda x: boundedRandomGen(x, 45, 110))\n",
    "data_impr = data_impr[data_impr.BloodPressure >= 40]\n",
    "data_impr = data_impr[data_impr.BloodPressure <= 125]\n",
    "\n",
    "# IMC\n",
    "data_impr['BMI'] = data_impr['BMI'].apply(lambda x: boundedRandomGen(x, 20, 50))\n",
    "data_impr = data_impr[data_impr.BMI <= 50]\n",
    "\n",
    "# Glucose\n",
    "data_impr['Glucose'] = data_impr['Glucose'].apply(lambda x: boundedRandomGen(x, 45, 200))\n",
    "\n",
    "# Gravidez\n",
    "#data_impr = data_impr[data_impr.Pregnancies < 11]\n",
    "\n",
    "# Gravidez\n",
    "#data_impr = data_impr[data_impr.Age < 60]\n",
    "\n",
    "# Pedi Fun\n",
    "#data_impr = data_impr[data_impr.DiabetesPedigreeFunction < 1.2]\n",
    "\n",
    "data_impr.info()"
   ]
  },
  {
   "cell_type": "code",
   "execution_count": 26,
   "id": "b350b11c-b67e-42f5-889b-26490adaa0d0",
   "metadata": {
    "tags": []
   },
   "outputs": [],
   "source": [
    "df_base = data.dropna()\n",
    "df_mod = data_impr.dropna()"
   ]
  },
  {
   "cell_type": "code",
   "execution_count": 27,
   "id": "6b921eb9-4398-4a20-b1eb-29f002ddfc49",
   "metadata": {
    "tags": []
   },
   "outputs": [
    {
     "name": "stdout",
     "output_type": "stream",
     "text": [
      "<class 'pandas.core.frame.DataFrame'>\n",
      "Int64Index: 196 entries, 3 to 569\n",
      "Data columns (total 9 columns):\n",
      " #   Column                    Non-Null Count  Dtype  \n",
      "---  ------                    --------------  -----  \n",
      " 0   Pregnancies               196 non-null    int64  \n",
      " 1   Glucose                   196 non-null    float64\n",
      " 2   BloodPressure             196 non-null    float64\n",
      " 3   SkinThickness             196 non-null    float64\n",
      " 4   Insulin                   196 non-null    float64\n",
      " 5   BMI                       196 non-null    float64\n",
      " 6   DiabetesPedigreeFunction  196 non-null    float64\n",
      " 7   Age                       196 non-null    int64  \n",
      " 8   Outcome                   196 non-null    int64  \n",
      "dtypes: float64(6), int64(3)\n",
      "memory usage: 15.3 KB\n"
     ]
    }
   ],
   "source": [
    "df_base.info()"
   ]
  },
  {
   "cell_type": "code",
   "execution_count": 28,
   "id": "ddf1c5d7-af3a-4c43-ac48-911ca44a0bc2",
   "metadata": {
    "tags": []
   },
   "outputs": [
    {
     "name": "stdout",
     "output_type": "stream",
     "text": [
      "<class 'pandas.core.frame.DataFrame'>\n",
      "Int64Index: 566 entries, 0 to 571\n",
      "Data columns (total 9 columns):\n",
      " #   Column                    Non-Null Count  Dtype  \n",
      "---  ------                    --------------  -----  \n",
      " 0   Pregnancies               566 non-null    int64  \n",
      " 1   Glucose                   566 non-null    float64\n",
      " 2   BloodPressure             566 non-null    float64\n",
      " 3   SkinThickness             566 non-null    float64\n",
      " 4   Insulin                   566 non-null    float64\n",
      " 5   BMI                       566 non-null    float64\n",
      " 6   DiabetesPedigreeFunction  566 non-null    float64\n",
      " 7   Age                       566 non-null    int64  \n",
      " 8   Outcome                   566 non-null    int64  \n",
      "dtypes: float64(6), int64(3)\n",
      "memory usage: 44.2 KB\n"
     ]
    }
   ],
   "source": [
    "df_mod.info()"
   ]
  },
  {
   "cell_type": "code",
   "execution_count": 29,
   "id": "2efeba72-95ae-4c5f-ac9c-f3bd23f23bca",
   "metadata": {
    "jupyter": {
     "source_hidden": true
    },
    "tags": []
   },
   "outputs": [],
   "source": [
    "df_md2 = data.copy()\n",
    "\n",
    "# Insulina\n",
    "df_md2['Insulin'] = df_md2['Insulin'].apply(lambda x: boundedRandomGen(x, 50, 350))\n",
    "\n",
    "# Espessura da pele\n",
    "df_md2['SkinThickness'] = df_md2['SkinThickness'].apply(lambda x: boundedRandomGen(x, 10, 50))\n",
    "\n",
    "# Pressão sanguínea\n",
    "df_md2['BloodPressure'] = df_md2['BloodPressure'].apply(lambda x: boundedRandomGen(x, 45, 110))\n",
    "\n",
    "# IMC\n",
    "df_md2['BMI'] = df_md2['BMI'].apply(lambda x: boundedRandomGen(x, 20, 50))\n",
    "\n",
    "# Glucose\n",
    "df_md2['Glucose'] = df_md2['Glucose'].apply(lambda x: boundedRandomGen(x, 45, 200))\n",
    "\n",
    "# Elimina NaN remanescentes\n",
    "df_md2 = df_md2.dropna()"
   ]
  },
  {
   "cell_type": "code",
   "execution_count": 30,
   "id": "b05202a4-68b0-4ce9-825a-8bb6d2219711",
   "metadata": {
    "jupyter": {
     "source_hidden": true
    },
    "tags": []
   },
   "outputs": [],
   "source": [
    "df_md3 = data.copy()\n",
    "\n",
    "df_md3 = df_md3[df_md3.BloodPressure >= 40]\n",
    "df_md3 = df_md3[df_md3.BloodPressure <= 125]\n",
    "df_md3 = df_md3[df_md3.BMI <= 50]\n",
    "\n",
    "# Elimina NaN remanescentes\n",
    "df_md3 = df_md3.dropna()"
   ]
  },
  {
   "cell_type": "code",
   "execution_count": 31,
   "id": "da56a1d7-e275-4383-9bd2-2f47d5f74f9a",
   "metadata": {
    "tags": []
   },
   "outputs": [
    {
     "name": "stdout",
     "output_type": "stream",
     "text": [
      "Base Accuracy:\t0.65\n",
      "Mod Accuracy:\t0.6754385964912281\n",
      "Md2 Accuracy:\t0.7043478260869566\n",
      "Md3 Accuracy:\t0.6666666666666666\n",
      "\n",
      "Base Precision:\t0.47058823529411764\n",
      "Mod Precision:\t0.5652173913043478\n",
      "Md2 Precision:\t0.5882352941176471\n",
      "Md3 Precision:\t0.5\n",
      "\n",
      "Base Recall:\t0.6153846153846154\n",
      "Mod Recall:\t0.6046511627906976\n",
      "Md2 Recall:\t0.6976744186046512\n",
      "Md3 Recall:\t0.6153846153846154\n"
     ]
    }
   ],
   "source": [
    "base = trainTestReport(df_base, 0.8)\n",
    "mod = trainTestReport(df_mod, 0.8)\n",
    "md2 = trainTestReport(df_md2, 0.8)\n",
    "md3 = trainTestReport(df_md3, 0.8)\n",
    "\n",
    "print(f\"Base Accuracy:\\t{base[0]}\\nMod Accuracy:\\t{mod[0]}\\nMd2 Accuracy:\\t{md2[0]}\\nMd3 Accuracy:\\t{md3[0]}\\n\")\n",
    "print(f\"Base Precision:\\t{base[1]}\\nMod Precision:\\t{mod[1]}\\nMd2 Precision:\\t{md2[1]}\\nMd3 Precision:\\t{md3[1]}\\n\")\n",
    "print(f\"Base Recall:\\t{base[2]}\\nMod Recall:\\t{mod[2]}\\nMd2 Recall:\\t{md2[2]}\\nMd3 Recall:\\t{md3[2]}\")"
   ]
  },
  {
   "cell_type": "code",
   "execution_count": 32,
   "id": "472f392a-6f02-4e47-b4f7-33f1078c5a1d",
   "metadata": {
    "tags": []
   },
   "outputs": [
    {
     "name": "stdout",
     "output_type": "stream",
     "text": [
      "<class 'pandas.core.frame.DataFrame'>\n",
      "RangeIndex: 572 entries, 0 to 571\n",
      "Data columns (total 9 columns):\n",
      " #   Column                    Non-Null Count  Dtype  \n",
      "---  ------                    --------------  -----  \n",
      " 0   Pregnancies               572 non-null    int64  \n",
      " 1   Glucose                   567 non-null    float64\n",
      " 2   BloodPressure             537 non-null    float64\n",
      " 3   SkinThickness             345 non-null    float64\n",
      " 4   Insulin                   198 non-null    float64\n",
      " 5   BMI                       561 non-null    float64\n",
      " 6   DiabetesPedigreeFunction  572 non-null    float64\n",
      " 7   Age                       572 non-null    int64  \n",
      " 8   Outcome                   572 non-null    int64  \n",
      "dtypes: float64(6), int64(3)\n",
      "memory usage: 40.3 KB\n"
     ]
    }
   ],
   "source": [
    "data.info()"
   ]
  },
  {
   "cell_type": "code",
   "execution_count": 33,
   "id": "28931506-8d46-4ed1-8eb9-ed40fe3905b6",
   "metadata": {
    "tags": []
   },
   "outputs": [
    {
     "data": {
      "text/html": [
       "<div>\n",
       "<style scoped>\n",
       "    .dataframe tbody tr th:only-of-type {\n",
       "        vertical-align: middle;\n",
       "    }\n",
       "\n",
       "    .dataframe tbody tr th {\n",
       "        vertical-align: top;\n",
       "    }\n",
       "\n",
       "    .dataframe thead th {\n",
       "        text-align: right;\n",
       "    }\n",
       "</style>\n",
       "<table border=\"1\" class=\"dataframe\">\n",
       "  <thead>\n",
       "    <tr style=\"text-align: right;\">\n",
       "      <th></th>\n",
       "      <th>Pregnancies</th>\n",
       "      <th>Glucose</th>\n",
       "      <th>BloodPressure</th>\n",
       "      <th>SkinThickness</th>\n",
       "      <th>Insulin</th>\n",
       "      <th>BMI</th>\n",
       "      <th>DiabetesPedigreeFunction</th>\n",
       "      <th>Age</th>\n",
       "      <th>Outcome</th>\n",
       "    </tr>\n",
       "  </thead>\n",
       "  <tbody>\n",
       "    <tr>\n",
       "      <th>count</th>\n",
       "      <td>572.000000</td>\n",
       "      <td>567.000000</td>\n",
       "      <td>537.000000</td>\n",
       "      <td>345.000000</td>\n",
       "      <td>198.000000</td>\n",
       "      <td>561.000000</td>\n",
       "      <td>572.000000</td>\n",
       "      <td>572.000000</td>\n",
       "      <td>572.000000</td>\n",
       "    </tr>\n",
       "    <tr>\n",
       "      <th>mean</th>\n",
       "      <td>4.106643</td>\n",
       "      <td>121.647266</td>\n",
       "      <td>73.150838</td>\n",
       "      <td>29.356522</td>\n",
       "      <td>156.934343</td>\n",
       "      <td>32.327629</td>\n",
       "      <td>0.459121</td>\n",
       "      <td>34.043706</td>\n",
       "      <td>0.358392</td>\n",
       "    </tr>\n",
       "    <tr>\n",
       "      <th>std</th>\n",
       "      <td>3.446995</td>\n",
       "      <td>30.132084</td>\n",
       "      <td>12.347184</td>\n",
       "      <td>10.433503</td>\n",
       "      <td>119.066934</td>\n",
       "      <td>6.735437</td>\n",
       "      <td>0.336124</td>\n",
       "      <td>12.103893</td>\n",
       "      <td>0.479948</td>\n",
       "    </tr>\n",
       "    <tr>\n",
       "      <th>min</th>\n",
       "      <td>0.000000</td>\n",
       "      <td>44.000000</td>\n",
       "      <td>30.000000</td>\n",
       "      <td>7.000000</td>\n",
       "      <td>16.000000</td>\n",
       "      <td>18.200000</td>\n",
       "      <td>0.078000</td>\n",
       "      <td>21.000000</td>\n",
       "      <td>0.000000</td>\n",
       "    </tr>\n",
       "    <tr>\n",
       "      <th>25%</th>\n",
       "      <td>1.000000</td>\n",
       "      <td>100.000000</td>\n",
       "      <td>65.000000</td>\n",
       "      <td>22.000000</td>\n",
       "      <td>77.500000</td>\n",
       "      <td>27.500000</td>\n",
       "      <td>0.236000</td>\n",
       "      <td>24.000000</td>\n",
       "      <td>0.000000</td>\n",
       "    </tr>\n",
       "    <tr>\n",
       "      <th>50%</th>\n",
       "      <td>3.000000</td>\n",
       "      <td>117.000000</td>\n",
       "      <td>72.000000</td>\n",
       "      <td>30.000000</td>\n",
       "      <td>129.500000</td>\n",
       "      <td>32.000000</td>\n",
       "      <td>0.344500</td>\n",
       "      <td>30.000000</td>\n",
       "      <td>0.000000</td>\n",
       "    </tr>\n",
       "    <tr>\n",
       "      <th>75%</th>\n",
       "      <td>6.000000</td>\n",
       "      <td>140.000000</td>\n",
       "      <td>80.000000</td>\n",
       "      <td>36.000000</td>\n",
       "      <td>185.000000</td>\n",
       "      <td>36.600000</td>\n",
       "      <td>0.605500</td>\n",
       "      <td>41.000000</td>\n",
       "      <td>1.000000</td>\n",
       "    </tr>\n",
       "    <tr>\n",
       "      <th>max</th>\n",
       "      <td>17.000000</td>\n",
       "      <td>199.000000</td>\n",
       "      <td>122.000000</td>\n",
       "      <td>99.000000</td>\n",
       "      <td>744.000000</td>\n",
       "      <td>57.300000</td>\n",
       "      <td>2.329000</td>\n",
       "      <td>81.000000</td>\n",
       "      <td>1.000000</td>\n",
       "    </tr>\n",
       "  </tbody>\n",
       "</table>\n",
       "</div>"
      ],
      "text/plain": [
       "       Pregnancies     Glucose  BloodPressure  SkinThickness     Insulin  \\\n",
       "count   572.000000  567.000000     537.000000     345.000000  198.000000   \n",
       "mean      4.106643  121.647266      73.150838      29.356522  156.934343   \n",
       "std       3.446995   30.132084      12.347184      10.433503  119.066934   \n",
       "min       0.000000   44.000000      30.000000       7.000000   16.000000   \n",
       "25%       1.000000  100.000000      65.000000      22.000000   77.500000   \n",
       "50%       3.000000  117.000000      72.000000      30.000000  129.500000   \n",
       "75%       6.000000  140.000000      80.000000      36.000000  185.000000   \n",
       "max      17.000000  199.000000     122.000000      99.000000  744.000000   \n",
       "\n",
       "              BMI  DiabetesPedigreeFunction         Age     Outcome  \n",
       "count  561.000000                572.000000  572.000000  572.000000  \n",
       "mean    32.327629                  0.459121   34.043706    0.358392  \n",
       "std      6.735437                  0.336124   12.103893    0.479948  \n",
       "min     18.200000                  0.078000   21.000000    0.000000  \n",
       "25%     27.500000                  0.236000   24.000000    0.000000  \n",
       "50%     32.000000                  0.344500   30.000000    0.000000  \n",
       "75%     36.600000                  0.605500   41.000000    1.000000  \n",
       "max     57.300000                  2.329000   81.000000    1.000000  "
      ]
     },
     "execution_count": 33,
     "metadata": {},
     "output_type": "execute_result"
    }
   ],
   "source": [
    "data.describe()"
   ]
  },
  {
   "cell_type": "code",
   "execution_count": 34,
   "id": "d2ee7c17-5157-493c-a5f3-6d39e492b21d",
   "metadata": {
    "tags": []
   },
   "outputs": [
    {
     "data": {
      "text/html": [
       "<div>\n",
       "<style scoped>\n",
       "    .dataframe tbody tr th:only-of-type {\n",
       "        vertical-align: middle;\n",
       "    }\n",
       "\n",
       "    .dataframe tbody tr th {\n",
       "        vertical-align: top;\n",
       "    }\n",
       "\n",
       "    .dataframe thead th {\n",
       "        text-align: right;\n",
       "    }\n",
       "</style>\n",
       "<table border=\"1\" class=\"dataframe\">\n",
       "  <thead>\n",
       "    <tr style=\"text-align: right;\">\n",
       "      <th></th>\n",
       "      <th>Pregnancies</th>\n",
       "      <th>Glucose</th>\n",
       "      <th>BloodPressure</th>\n",
       "      <th>SkinThickness</th>\n",
       "      <th>Insulin</th>\n",
       "      <th>BMI</th>\n",
       "      <th>DiabetesPedigreeFunction</th>\n",
       "      <th>Age</th>\n",
       "      <th>Outcome</th>\n",
       "    </tr>\n",
       "  </thead>\n",
       "  <tbody>\n",
       "    <tr>\n",
       "      <th>Pregnancies</th>\n",
       "      <td>1.000000</td>\n",
       "      <td>0.077344</td>\n",
       "      <td>0.192716</td>\n",
       "      <td>0.085594</td>\n",
       "      <td>-0.017372</td>\n",
       "      <td>0.025920</td>\n",
       "      <td>-0.031881</td>\n",
       "      <td>0.498979</td>\n",
       "      <td>0.185400</td>\n",
       "    </tr>\n",
       "    <tr>\n",
       "      <th>Glucose</th>\n",
       "      <td>0.077344</td>\n",
       "      <td>1.000000</td>\n",
       "      <td>0.201205</td>\n",
       "      <td>0.222645</td>\n",
       "      <td>0.615888</td>\n",
       "      <td>0.222214</td>\n",
       "      <td>0.141548</td>\n",
       "      <td>0.202266</td>\n",
       "      <td>0.480425</td>\n",
       "    </tr>\n",
       "    <tr>\n",
       "      <th>BloodPressure</th>\n",
       "      <td>0.192716</td>\n",
       "      <td>0.201205</td>\n",
       "      <td>1.000000</td>\n",
       "      <td>0.160870</td>\n",
       "      <td>0.071659</td>\n",
       "      <td>0.225717</td>\n",
       "      <td>-0.006334</td>\n",
       "      <td>0.317875</td>\n",
       "      <td>0.099409</td>\n",
       "    </tr>\n",
       "    <tr>\n",
       "      <th>SkinThickness</th>\n",
       "      <td>0.085594</td>\n",
       "      <td>0.222645</td>\n",
       "      <td>0.160870</td>\n",
       "      <td>1.000000</td>\n",
       "      <td>0.191158</td>\n",
       "      <td>0.625727</td>\n",
       "      <td>0.074387</td>\n",
       "      <td>0.160159</td>\n",
       "      <td>0.252870</td>\n",
       "    </tr>\n",
       "    <tr>\n",
       "      <th>Insulin</th>\n",
       "      <td>-0.017372</td>\n",
       "      <td>0.615888</td>\n",
       "      <td>0.071659</td>\n",
       "      <td>0.191158</td>\n",
       "      <td>1.000000</td>\n",
       "      <td>0.282530</td>\n",
       "      <td>0.219553</td>\n",
       "      <td>0.036192</td>\n",
       "      <td>0.274332</td>\n",
       "    </tr>\n",
       "    <tr>\n",
       "      <th>BMI</th>\n",
       "      <td>0.025920</td>\n",
       "      <td>0.222214</td>\n",
       "      <td>0.225717</td>\n",
       "      <td>0.625727</td>\n",
       "      <td>0.282530</td>\n",
       "      <td>1.000000</td>\n",
       "      <td>0.139180</td>\n",
       "      <td>-0.006016</td>\n",
       "      <td>0.308132</td>\n",
       "    </tr>\n",
       "    <tr>\n",
       "      <th>DiabetesPedigreeFunction</th>\n",
       "      <td>-0.031881</td>\n",
       "      <td>0.141548</td>\n",
       "      <td>-0.006334</td>\n",
       "      <td>0.074387</td>\n",
       "      <td>0.219553</td>\n",
       "      <td>0.139180</td>\n",
       "      <td>1.000000</td>\n",
       "      <td>0.025713</td>\n",
       "      <td>0.171984</td>\n",
       "    </tr>\n",
       "    <tr>\n",
       "      <th>Age</th>\n",
       "      <td>0.498979</td>\n",
       "      <td>0.202266</td>\n",
       "      <td>0.317875</td>\n",
       "      <td>0.160159</td>\n",
       "      <td>0.036192</td>\n",
       "      <td>-0.006016</td>\n",
       "      <td>0.025713</td>\n",
       "      <td>1.000000</td>\n",
       "      <td>0.171850</td>\n",
       "    </tr>\n",
       "    <tr>\n",
       "      <th>Outcome</th>\n",
       "      <td>0.185400</td>\n",
       "      <td>0.480425</td>\n",
       "      <td>0.099409</td>\n",
       "      <td>0.252870</td>\n",
       "      <td>0.274332</td>\n",
       "      <td>0.308132</td>\n",
       "      <td>0.171984</td>\n",
       "      <td>0.171850</td>\n",
       "      <td>1.000000</td>\n",
       "    </tr>\n",
       "  </tbody>\n",
       "</table>\n",
       "</div>"
      ],
      "text/plain": [
       "                          Pregnancies   Glucose  BloodPressure  SkinThickness  \\\n",
       "Pregnancies                  1.000000  0.077344       0.192716       0.085594   \n",
       "Glucose                      0.077344  1.000000       0.201205       0.222645   \n",
       "BloodPressure                0.192716  0.201205       1.000000       0.160870   \n",
       "SkinThickness                0.085594  0.222645       0.160870       1.000000   \n",
       "Insulin                     -0.017372  0.615888       0.071659       0.191158   \n",
       "BMI                          0.025920  0.222214       0.225717       0.625727   \n",
       "DiabetesPedigreeFunction    -0.031881  0.141548      -0.006334       0.074387   \n",
       "Age                          0.498979  0.202266       0.317875       0.160159   \n",
       "Outcome                      0.185400  0.480425       0.099409       0.252870   \n",
       "\n",
       "                           Insulin       BMI  DiabetesPedigreeFunction  \\\n",
       "Pregnancies              -0.017372  0.025920                 -0.031881   \n",
       "Glucose                   0.615888  0.222214                  0.141548   \n",
       "BloodPressure             0.071659  0.225717                 -0.006334   \n",
       "SkinThickness             0.191158  0.625727                  0.074387   \n",
       "Insulin                   1.000000  0.282530                  0.219553   \n",
       "BMI                       0.282530  1.000000                  0.139180   \n",
       "DiabetesPedigreeFunction  0.219553  0.139180                  1.000000   \n",
       "Age                       0.036192 -0.006016                  0.025713   \n",
       "Outcome                   0.274332  0.308132                  0.171984   \n",
       "\n",
       "                               Age   Outcome  \n",
       "Pregnancies               0.498979  0.185400  \n",
       "Glucose                   0.202266  0.480425  \n",
       "BloodPressure             0.317875  0.099409  \n",
       "SkinThickness             0.160159  0.252870  \n",
       "Insulin                   0.036192  0.274332  \n",
       "BMI                      -0.006016  0.308132  \n",
       "DiabetesPedigreeFunction  0.025713  0.171984  \n",
       "Age                       1.000000  0.171850  \n",
       "Outcome                   0.171850  1.000000  "
      ]
     },
     "execution_count": 34,
     "metadata": {},
     "output_type": "execute_result"
    }
   ],
   "source": [
    "data.corr()"
   ]
  },
  {
   "cell_type": "code",
   "execution_count": null,
   "id": "0d1a8046-0db1-486d-acb9-8938daaf96c0",
   "metadata": {},
   "outputs": [],
   "source": []
  }
 ],
 "metadata": {
  "kernelspec": {
   "display_name": "UFAL-IA-AP-2023",
   "language": "python",
   "name": "ufal-ia-ap-2023"
  },
  "language_info": {
   "codemirror_mode": {
    "name": "ipython",
    "version": 3
   },
   "file_extension": ".py",
   "mimetype": "text/x-python",
   "name": "python",
   "nbconvert_exporter": "python",
   "pygments_lexer": "ipython3",
   "version": "3.10.9"
  }
 },
 "nbformat": 4,
 "nbformat_minor": 5
}
